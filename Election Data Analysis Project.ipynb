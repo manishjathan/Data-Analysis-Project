{
 "cells": [
  {
   "cell_type": "code",
   "execution_count": 3,
   "metadata": {
    "collapsed": true
   },
   "outputs": [],
   "source": [
    "import pandas as pd\n",
    "from pandas import Series,DataFrame\n",
    "import numpy as np"
   ]
  },
  {
   "cell_type": "code",
   "execution_count": 4,
   "metadata": {
    "collapsed": true
   },
   "outputs": [],
   "source": [
    "import matplotlib.pyplot as plt\n",
    "import seaborn as sns\n",
    "sns.set_style('whitegrid')"
   ]
  },
  {
   "cell_type": "code",
   "execution_count": 5,
   "metadata": {
    "collapsed": true
   },
   "outputs": [],
   "source": [
    "%matplotlib inline"
   ]
  },
  {
   "cell_type": "code",
   "execution_count": 6,
   "metadata": {
    "collapsed": true
   },
   "outputs": [],
   "source": [
    "from __future__ import division"
   ]
  },
  {
   "cell_type": "code",
   "execution_count": 7,
   "metadata": {
    "collapsed": true
   },
   "outputs": [],
   "source": [
    "#Provides an API to make HTTP Requests\n",
    "import requests\n",
    "try:\n",
    "    from StringIO import StringIO\n",
    "except:\n",
    "    from io import StringIO"
   ]
  },
  {
   "cell_type": "code",
   "execution_count": 8,
   "metadata": {
    "collapsed": true
   },
   "outputs": [],
   "source": [
    "url = \"http://elections.huffingtonpost.com/pollster/2012-general-election-romney-vs-obama.csv\"\n",
    "#Use Requests to get the information in text\n",
    "source = requests.get(url).text\n",
    "#Use StringIO to avoid an IO error with pandas \n",
    "poll_data = StringIO(source)"
   ]
  },
  {
   "cell_type": "code",
   "execution_count": 9,
   "metadata": {
    "collapsed": true
   },
   "outputs": [],
   "source": [
    "poll_df = pd.read_csv(poll_data)"
   ]
  },
  {
   "cell_type": "code",
   "execution_count": 10,
   "metadata": {},
   "outputs": [
    {
     "data": {
      "text/html": [
       "<div>\n",
       "<style>\n",
       "    .dataframe thead tr:only-child th {\n",
       "        text-align: right;\n",
       "    }\n",
       "\n",
       "    .dataframe thead th {\n",
       "        text-align: left;\n",
       "    }\n",
       "\n",
       "    .dataframe tbody tr th {\n",
       "        vertical-align: top;\n",
       "    }\n",
       "</style>\n",
       "<table border=\"1\" class=\"dataframe\">\n",
       "  <thead>\n",
       "    <tr style=\"text-align: right;\">\n",
       "      <th></th>\n",
       "      <th>Pollster</th>\n",
       "      <th>Start Date</th>\n",
       "      <th>End Date</th>\n",
       "      <th>Entry Date/Time (ET)</th>\n",
       "      <th>Number of Observations</th>\n",
       "      <th>Population</th>\n",
       "      <th>Mode</th>\n",
       "      <th>Obama</th>\n",
       "      <th>Romney</th>\n",
       "      <th>Undecided</th>\n",
       "      <th>Other</th>\n",
       "      <th>Pollster URL</th>\n",
       "      <th>Source URL</th>\n",
       "      <th>Partisan</th>\n",
       "      <th>Affiliation</th>\n",
       "      <th>Question Text</th>\n",
       "      <th>Question Iteration</th>\n",
       "    </tr>\n",
       "  </thead>\n",
       "  <tbody>\n",
       "    <tr>\n",
       "      <th>0</th>\n",
       "      <td>Politico/GWU/Battleground</td>\n",
       "      <td>2012-11-04</td>\n",
       "      <td>2012-11-05</td>\n",
       "      <td>2012-11-06T08:40:26Z</td>\n",
       "      <td>1000.0</td>\n",
       "      <td>Likely Voters</td>\n",
       "      <td>Live Phone</td>\n",
       "      <td>47.0</td>\n",
       "      <td>47.0</td>\n",
       "      <td>6.0</td>\n",
       "      <td>NaN</td>\n",
       "      <td>http://elections.huffingtonpost.com/pollster/p...</td>\n",
       "      <td>http://www.politico.com/news/stories/1112/8338...</td>\n",
       "      <td>Nonpartisan</td>\n",
       "      <td>None</td>\n",
       "      <td>NaN</td>\n",
       "      <td>1</td>\n",
       "    </tr>\n",
       "    <tr>\n",
       "      <th>1</th>\n",
       "      <td>YouGov/Economist</td>\n",
       "      <td>2012-11-03</td>\n",
       "      <td>2012-11-05</td>\n",
       "      <td>2012-11-26T15:31:23Z</td>\n",
       "      <td>740.0</td>\n",
       "      <td>Likely Voters</td>\n",
       "      <td>Internet</td>\n",
       "      <td>49.0</td>\n",
       "      <td>47.0</td>\n",
       "      <td>3.0</td>\n",
       "      <td>NaN</td>\n",
       "      <td>http://elections.huffingtonpost.com/pollster/p...</td>\n",
       "      <td>http://cdn.yougov.com/cumulus_uploads/document...</td>\n",
       "      <td>Nonpartisan</td>\n",
       "      <td>None</td>\n",
       "      <td>NaN</td>\n",
       "      <td>1</td>\n",
       "    </tr>\n",
       "    <tr>\n",
       "      <th>2</th>\n",
       "      <td>Gravis Marketing</td>\n",
       "      <td>2012-11-03</td>\n",
       "      <td>2012-11-05</td>\n",
       "      <td>2012-11-06T09:22:02Z</td>\n",
       "      <td>872.0</td>\n",
       "      <td>Likely Voters</td>\n",
       "      <td>Automated Phone</td>\n",
       "      <td>48.0</td>\n",
       "      <td>48.0</td>\n",
       "      <td>4.0</td>\n",
       "      <td>NaN</td>\n",
       "      <td>http://elections.huffingtonpost.com/pollster/p...</td>\n",
       "      <td>http://www.gravispolls.com/2012/11/gravis-mark...</td>\n",
       "      <td>Nonpartisan</td>\n",
       "      <td>None</td>\n",
       "      <td>NaN</td>\n",
       "      <td>1</td>\n",
       "    </tr>\n",
       "    <tr>\n",
       "      <th>3</th>\n",
       "      <td>IBD/TIPP</td>\n",
       "      <td>2012-11-03</td>\n",
       "      <td>2012-11-05</td>\n",
       "      <td>2012-11-06T08:51:48Z</td>\n",
       "      <td>712.0</td>\n",
       "      <td>Likely Voters</td>\n",
       "      <td>Live Phone</td>\n",
       "      <td>50.0</td>\n",
       "      <td>49.0</td>\n",
       "      <td>NaN</td>\n",
       "      <td>1.0</td>\n",
       "      <td>http://elections.huffingtonpost.com/pollster/p...</td>\n",
       "      <td>http://news.investors.com/special-report/50841...</td>\n",
       "      <td>Nonpartisan</td>\n",
       "      <td>None</td>\n",
       "      <td>NaN</td>\n",
       "      <td>1</td>\n",
       "    </tr>\n",
       "    <tr>\n",
       "      <th>4</th>\n",
       "      <td>Rasmussen</td>\n",
       "      <td>2012-11-03</td>\n",
       "      <td>2012-11-05</td>\n",
       "      <td>2012-11-06T08:47:50Z</td>\n",
       "      <td>1500.0</td>\n",
       "      <td>Likely Voters</td>\n",
       "      <td>Automated Phone</td>\n",
       "      <td>48.0</td>\n",
       "      <td>49.0</td>\n",
       "      <td>NaN</td>\n",
       "      <td>NaN</td>\n",
       "      <td>http://elections.huffingtonpost.com/pollster/p...</td>\n",
       "      <td>http://www.rasmussenreports.com/public_content...</td>\n",
       "      <td>Nonpartisan</td>\n",
       "      <td>None</td>\n",
       "      <td>NaN</td>\n",
       "      <td>1</td>\n",
       "    </tr>\n",
       "  </tbody>\n",
       "</table>\n",
       "</div>"
      ],
      "text/plain": [
       "                    Pollster  Start Date    End Date  Entry Date/Time (ET)  \\\n",
       "0  Politico/GWU/Battleground  2012-11-04  2012-11-05  2012-11-06T08:40:26Z   \n",
       "1           YouGov/Economist  2012-11-03  2012-11-05  2012-11-26T15:31:23Z   \n",
       "2           Gravis Marketing  2012-11-03  2012-11-05  2012-11-06T09:22:02Z   \n",
       "3                   IBD/TIPP  2012-11-03  2012-11-05  2012-11-06T08:51:48Z   \n",
       "4                  Rasmussen  2012-11-03  2012-11-05  2012-11-06T08:47:50Z   \n",
       "\n",
       "   Number of Observations     Population             Mode  Obama  Romney  \\\n",
       "0                  1000.0  Likely Voters       Live Phone   47.0    47.0   \n",
       "1                   740.0  Likely Voters         Internet   49.0    47.0   \n",
       "2                   872.0  Likely Voters  Automated Phone   48.0    48.0   \n",
       "3                   712.0  Likely Voters       Live Phone   50.0    49.0   \n",
       "4                  1500.0  Likely Voters  Automated Phone   48.0    49.0   \n",
       "\n",
       "   Undecided  Other                                       Pollster URL  \\\n",
       "0        6.0    NaN  http://elections.huffingtonpost.com/pollster/p...   \n",
       "1        3.0    NaN  http://elections.huffingtonpost.com/pollster/p...   \n",
       "2        4.0    NaN  http://elections.huffingtonpost.com/pollster/p...   \n",
       "3        NaN    1.0  http://elections.huffingtonpost.com/pollster/p...   \n",
       "4        NaN    NaN  http://elections.huffingtonpost.com/pollster/p...   \n",
       "\n",
       "                                          Source URL     Partisan Affiliation  \\\n",
       "0  http://www.politico.com/news/stories/1112/8338...  Nonpartisan        None   \n",
       "1  http://cdn.yougov.com/cumulus_uploads/document...  Nonpartisan        None   \n",
       "2  http://www.gravispolls.com/2012/11/gravis-mark...  Nonpartisan        None   \n",
       "3  http://news.investors.com/special-report/50841...  Nonpartisan        None   \n",
       "4  http://www.rasmussenreports.com/public_content...  Nonpartisan        None   \n",
       "\n",
       "   Question Text  Question Iteration  \n",
       "0            NaN                   1  \n",
       "1            NaN                   1  \n",
       "2            NaN                   1  \n",
       "3            NaN                   1  \n",
       "4            NaN                   1  "
      ]
     },
     "execution_count": 10,
     "metadata": {},
     "output_type": "execute_result"
    }
   ],
   "source": [
    "poll_df.head()"
   ]
  },
  {
   "cell_type": "code",
   "execution_count": 11,
   "metadata": {},
   "outputs": [
    {
     "data": {
      "text/plain": [
       "<bound method DataFrame.info of                                 Pollster  Start Date    End Date  \\\n",
       "0              Politico/GWU/Battleground  2012-11-04  2012-11-05   \n",
       "1                       YouGov/Economist  2012-11-03  2012-11-05   \n",
       "2                       Gravis Marketing  2012-11-03  2012-11-05   \n",
       "3                               IBD/TIPP  2012-11-03  2012-11-05   \n",
       "4                              Rasmussen  2012-11-03  2012-11-05   \n",
       "5                   JZ Analytics/Newsmax  2012-11-03  2012-11-05   \n",
       "6                             UPI/CVOTER  2012-11-03  2012-11-05   \n",
       "7                    Ipsos/Reuters (Web)  2012-11-01  2012-11-05   \n",
       "8                                    ARG  2012-11-02  2012-11-04   \n",
       "9    PPP (D-Americans United for Change)  2012-11-02  2012-11-04   \n",
       "10                                   CNN  2012-11-02  2012-11-04   \n",
       "11                              ABC/Post  2012-11-01  2012-11-04   \n",
       "12                                Gallup  2012-11-01  2012-11-04   \n",
       "13                 DailyKos/SEIU/PPP (D)  2012-11-01  2012-11-04   \n",
       "14                              Monmouth  2012-11-01  2012-11-04   \n",
       "15                   Democracy Corps (D)  2012-11-01  2012-11-04   \n",
       "16                            Angus-Reid  2012-11-01  2012-11-03   \n",
       "17                               NBC/WSJ  2012-11-01  2012-11-03   \n",
       "18                                YouGov  2012-10-31  2012-11-03   \n",
       "19                                   Pew  2012-10-31  2012-11-03   \n",
       "20                            UPI/CVOTER  2012-11-02  2012-11-02   \n",
       "21                             Rasmussen  2012-10-31  2012-11-02   \n",
       "22                     Purple Strategies  2012-10-31  2012-11-01   \n",
       "23                  JZ Analytics/Newsmax  2012-10-30  2012-11-01   \n",
       "24   PPP (D-Americans United for Change)  2012-10-30  2012-11-01   \n",
       "25             Politico/GWU/Battleground  2012-10-29  2012-11-01   \n",
       "26                            UPI/CVOTER  2012-10-26  2012-11-01   \n",
       "27         Washington Times/JZ Analytics  2012-10-29  2012-10-31   \n",
       "28                              ABC/Post  2012-10-28  2012-10-31   \n",
       "29                   Ipsos/Reuters (Web)  2012-10-27  2012-10-31   \n",
       "..                                   ...         ...         ...   \n",
       "556                                  CNN  2010-10-27  2010-10-30   \n",
       "557                                  FOX  2010-09-28  2010-09-29   \n",
       "558                              PPP (D)  2010-09-10  2010-09-13   \n",
       "559       Politico / Penn Schoen Berland  2010-08-06  2010-08-11   \n",
       "560                              PPP (D)  2010-08-06  2010-08-09   \n",
       "561                     Zogby (Internet)  2010-07-16  2010-07-19   \n",
       "562       Politico / Penn Schoen Berland  2010-07-09  2010-07-14   \n",
       "563                              PPP (D)  2010-07-09  2010-07-12   \n",
       "564                              PPP (D)  2010-06-04  2010-06-07   \n",
       "565                              PPP (D)  2010-05-07  2010-05-09   \n",
       "566                                  CNN  2010-04-09  2010-04-11   \n",
       "567                              PPP (D)  2010-04-09  2010-04-11   \n",
       "568                               Clarus  2010-03-17  2010-03-20   \n",
       "569                              PPP (D)  2010-03-12  2010-03-14   \n",
       "570                              PPP (D)  2010-02-13  2010-02-15   \n",
       "571                              PPP (D)  2010-01-18  2010-01-19   \n",
       "572                                  FOX  2010-01-12  2010-01-13   \n",
       "573                              PPP (D)  2009-12-04  2009-12-07   \n",
       "574                            Rasmussen  2009-11-24  2009-11-24   \n",
       "575                              PPP (D)  2009-11-13  2009-11-15   \n",
       "576                              PPP (D)  2009-10-16  2009-10-19   \n",
       "577                              PPP (D)  2009-09-21  2009-09-21   \n",
       "578                               Clarus  2009-08-14  2009-08-18   \n",
       "579                              PPP (D)  2009-08-14  2009-08-17   \n",
       "580                            Rasmussen  2009-07-18  2009-07-19   \n",
       "581                              PPP (D)  2009-07-15  2009-07-16   \n",
       "582                              PPP (D)  2009-06-12  2009-06-16   \n",
       "583                              PPP (D)  2009-05-14  2009-05-18   \n",
       "584                              PPP (D)  2009-04-17  2009-04-19   \n",
       "585                              PPP (D)  2009-03-13  2009-03-15   \n",
       "\n",
       "     Entry Date/Time (ET)  Number of Observations         Population  \\\n",
       "0    2012-11-06T08:40:26Z                  1000.0      Likely Voters   \n",
       "1    2012-11-26T15:31:23Z                   740.0      Likely Voters   \n",
       "2    2012-11-06T09:22:02Z                   872.0      Likely Voters   \n",
       "3    2012-11-06T08:51:48Z                   712.0      Likely Voters   \n",
       "4    2012-11-06T08:47:50Z                  1500.0      Likely Voters   \n",
       "5    2012-11-06T07:38:41Z                  1041.0      Likely Voters   \n",
       "6    2012-11-05T18:30:15Z                  3000.0      Likely Voters   \n",
       "7    2012-11-05T16:12:48Z                  4725.0      Likely Voters   \n",
       "8    2012-11-05T13:06:54Z                  1200.0      Likely Voters   \n",
       "9    2012-11-04T22:32:19Z                  1200.0      Likely Voters   \n",
       "10   2012-11-04T20:16:09Z                   693.0      Likely Voters   \n",
       "11   2012-11-05T16:56:22Z                  2345.0      Likely Voters   \n",
       "12   2012-11-05T13:48:29Z                  2551.0      Likely Voters   \n",
       "13   2012-11-05T13:31:31Z                  1300.0      Likely Voters   \n",
       "14   2012-11-05T12:52:03Z                  1417.0      Likely Voters   \n",
       "15   2012-11-05T09:41:50Z                  1080.0      Likely Voters   \n",
       "16   2012-11-06T08:47:46Z                  1019.0      Likely Voters   \n",
       "17   2012-11-04T09:12:21Z                  1475.0      Likely Voters   \n",
       "18   2012-11-04T16:24:50Z                 36472.0      Likely Voters   \n",
       "19   2012-11-04T15:46:59Z                  2709.0      Likely Voters   \n",
       "20   2012-11-03T16:40:44Z                  1074.0      Likely Voters   \n",
       "21   2012-11-03T10:54:09Z                  1500.0      Likely Voters   \n",
       "22   2012-11-02T12:31:41Z                  1000.0      Likely Voters   \n",
       "23   2012-11-02T22:57:27Z                  1030.0      Likely Voters   \n",
       "24   2012-11-02T05:46:11Z                  1200.0      Likely Voters   \n",
       "25   2012-11-04T08:42:53Z                  1000.0      Likely Voters   \n",
       "26   2012-11-02T11:49:24Z                  1094.0      Likely Voters   \n",
       "27   2012-11-04T06:37:30Z                   800.0      Likely Voters   \n",
       "28   2012-11-01T17:05:21Z                  1293.0      Likely Voters   \n",
       "29   2012-10-31T14:56:53Z                  4085.0      Likely Voters   \n",
       "..                    ...                     ...                ...   \n",
       "556  2010-11-08T12:06:30Z                   921.0  Registered Voters   \n",
       "557  2010-11-08T12:04:22Z                   900.0  Registered Voters   \n",
       "558  2010-09-17T15:16:02Z                   590.0  Registered Voters   \n",
       "559  2010-11-08T12:00:01Z                  1668.0             Adults   \n",
       "560  2010-08-13T03:54:21Z                   606.0  Registered Voters   \n",
       "561  2010-11-08T11:54:08Z                  8487.0      Likely Voters   \n",
       "562  2010-11-08T11:50:54Z                  1011.0             Adults   \n",
       "563  2010-07-15T08:49:24Z                   667.0  Registered Voters   \n",
       "564  2010-06-10T12:17:39Z                   650.0  Registered Voters   \n",
       "565  2010-05-12T15:17:23Z                   707.0  Registered Voters   \n",
       "566  2010-11-08T11:40:42Z                   907.0  Registered Voters   \n",
       "567  2010-04-15T09:22:40Z                   622.0  Registered Voters   \n",
       "568  2010-11-08T11:36:08Z                  1050.0  Registered Voters   \n",
       "569  2010-03-18T09:19:18Z                  1403.0  Registered Voters   \n",
       "570  2010-02-18T10:39:08Z                   743.0  Registered Voters   \n",
       "571  2010-01-22T10:41:32Z                  1151.0  Registered Voters   \n",
       "572  2010-11-08T11:26:58Z                   900.0  Registered Voters   \n",
       "573  2009-12-10T08:10:07Z                  1253.0  Registered Voters   \n",
       "574  2009-11-25T08:50:13Z                   800.0      Likely Voters   \n",
       "575  2009-11-20T08:45:21Z                  1066.0  Registered Voters   \n",
       "576  2009-10-22T08:16:05Z                   766.0  Registered Voters   \n",
       "577  2009-09-24T10:45:45Z                   621.0  Registered Voters   \n",
       "578  2010-11-08T11:11:21Z                  1003.0  Registered Voters   \n",
       "579  2009-08-20T08:31:37Z                   909.0  Registered Voters   \n",
       "580  2010-11-08T11:05:08Z                  1000.0      Likely Voters   \n",
       "581  2010-11-08T11:02:37Z                   577.0  Registered Voters   \n",
       "582  2010-11-08T10:58:00Z                   638.0  Registered Voters   \n",
       "583  2010-11-08T10:49:08Z                  1000.0  Registered Voters   \n",
       "584  2010-11-08T10:45:18Z                   686.0  Registered Voters   \n",
       "585  2010-11-08T10:36:31Z                  1403.0  Registered Voters   \n",
       "\n",
       "                Mode  Obama  Romney  Undecided  Other  \\\n",
       "0         Live Phone   47.0    47.0        6.0    NaN   \n",
       "1           Internet   49.0    47.0        3.0    NaN   \n",
       "2    Automated Phone   48.0    48.0        4.0    NaN   \n",
       "3         Live Phone   50.0    49.0        NaN    1.0   \n",
       "4    Automated Phone   48.0    49.0        NaN    NaN   \n",
       "5           Internet   47.0    47.0        6.0    NaN   \n",
       "6         Live Phone   49.0    48.0        NaN    NaN   \n",
       "7           Internet   48.0    46.0        4.0    2.0   \n",
       "8         Live Phone   49.0    49.0        1.0    1.0   \n",
       "9    Automated Phone   50.0    48.0        3.0    NaN   \n",
       "10        Live Phone   49.0    49.0        2.0    NaN   \n",
       "11        Live Phone   50.0    47.0        1.0    1.0   \n",
       "12        Live Phone   48.0    49.0        NaN    NaN   \n",
       "13   Automated Phone   50.0    48.0        2.0    NaN   \n",
       "14    IVR/Live Phone   48.0    48.0        2.0    2.0   \n",
       "15        Live Phone   49.0    45.0        NaN    1.0   \n",
       "16          Internet   51.0    48.0        NaN    1.0   \n",
       "17        Live Phone   48.0    47.0        3.0    2.0   \n",
       "18          Internet   49.0    47.0        3.0    NaN   \n",
       "19        Live Phone   48.0    45.0        NaN    3.0   \n",
       "20        Live Phone   49.0    48.0        NaN    NaN   \n",
       "21   Automated Phone   48.0    48.0        2.0    1.0   \n",
       "22        IVR/Online   47.0    46.0        7.0    NaN   \n",
       "23          Internet   48.0    46.0        6.0    NaN   \n",
       "24   Automated Phone   49.0    48.0        3.0    NaN   \n",
       "25        Live Phone   48.0    48.0        3.0    NaN   \n",
       "26        Live Phone   48.0    48.0        NaN    NaN   \n",
       "27        Live Phone   49.0    49.0        NaN    NaN   \n",
       "28        Live Phone   49.0    48.0        NaN    NaN   \n",
       "29          Internet   47.0    46.0        4.0    3.0   \n",
       "..               ...    ...     ...        ...    ...   \n",
       "556       Live Phone   45.0    50.0        1.0    3.0   \n",
       "557       Live Phone   41.0    40.0       11.0    7.0   \n",
       "558  Automated Phone   46.0    43.0       11.0    NaN   \n",
       "559         Internet   42.0    33.0       24.0    NaN   \n",
       "560  Automated Phone   45.0    42.0       13.0    NaN   \n",
       "561         Internet   45.0    43.0        NaN    NaN   \n",
       "562         Internet   39.0    35.0       26.0    NaN   \n",
       "563  Automated Phone   43.0    46.0       11.0    NaN   \n",
       "564  Automated Phone   45.0    42.0       13.0    NaN   \n",
       "565  Automated Phone   46.0    44.0       11.0    NaN   \n",
       "566       Live Phone   53.0    45.0        NaN    1.0   \n",
       "567  Automated Phone   44.0    45.0       10.0    NaN   \n",
       "568       Live Phone   45.0    41.0       14.0    NaN   \n",
       "569  Automated Phone   44.0    44.0       12.0    NaN   \n",
       "570  Automated Phone   45.0    43.0       12.0    NaN   \n",
       "571  Automated Phone   44.0    42.0       15.0    NaN   \n",
       "572       Live Phone   47.0    35.0       10.0    5.0   \n",
       "573  Automated Phone   47.0    42.0       12.0    NaN   \n",
       "574  Automated Phone   44.0    44.0        5.0    6.0   \n",
       "575  Automated Phone   48.0    43.0        9.0    NaN   \n",
       "576  Automated Phone   48.0    40.0       12.0    NaN   \n",
       "577  Automated Phone   48.0    39.0       13.0    NaN   \n",
       "578       Live Phone   47.0    38.0       15.0    NaN   \n",
       "579  Automated Phone   47.0    40.0       12.0    NaN   \n",
       "580  Automated Phone   45.0    45.0        3.0    7.0   \n",
       "581  Automated Phone   49.0    40.0       11.0    NaN   \n",
       "582  Automated Phone   48.0    40.0       12.0    NaN   \n",
       "583  Automated Phone   53.0    35.0       12.0    NaN   \n",
       "584  Automated Phone   50.0    39.0       11.0    NaN   \n",
       "585  Automated Phone   44.0    44.0       12.0    NaN   \n",
       "\n",
       "                                          Pollster URL  \\\n",
       "0    http://elections.huffingtonpost.com/pollster/p...   \n",
       "1    http://elections.huffingtonpost.com/pollster/p...   \n",
       "2    http://elections.huffingtonpost.com/pollster/p...   \n",
       "3    http://elections.huffingtonpost.com/pollster/p...   \n",
       "4    http://elections.huffingtonpost.com/pollster/p...   \n",
       "5    http://elections.huffingtonpost.com/pollster/p...   \n",
       "6    http://elections.huffingtonpost.com/pollster/p...   \n",
       "7    http://elections.huffingtonpost.com/pollster/p...   \n",
       "8    http://elections.huffingtonpost.com/pollster/p...   \n",
       "9    http://elections.huffingtonpost.com/pollster/p...   \n",
       "10   http://elections.huffingtonpost.com/pollster/p...   \n",
       "11   http://elections.huffingtonpost.com/pollster/p...   \n",
       "12   http://elections.huffingtonpost.com/pollster/p...   \n",
       "13   http://elections.huffingtonpost.com/pollster/p...   \n",
       "14   http://elections.huffingtonpost.com/pollster/p...   \n",
       "15   http://elections.huffingtonpost.com/pollster/p...   \n",
       "16   http://elections.huffingtonpost.com/pollster/p...   \n",
       "17   http://elections.huffingtonpost.com/pollster/p...   \n",
       "18   http://elections.huffingtonpost.com/pollster/p...   \n",
       "19   http://elections.huffingtonpost.com/pollster/p...   \n",
       "20   http://elections.huffingtonpost.com/pollster/p...   \n",
       "21   http://elections.huffingtonpost.com/pollster/p...   \n",
       "22   http://elections.huffingtonpost.com/pollster/p...   \n",
       "23   http://elections.huffingtonpost.com/pollster/p...   \n",
       "24   http://elections.huffingtonpost.com/pollster/p...   \n",
       "25   http://elections.huffingtonpost.com/pollster/p...   \n",
       "26   http://elections.huffingtonpost.com/pollster/p...   \n",
       "27   http://elections.huffingtonpost.com/pollster/p...   \n",
       "28   http://elections.huffingtonpost.com/pollster/p...   \n",
       "29   http://elections.huffingtonpost.com/pollster/p...   \n",
       "..                                                 ...   \n",
       "556  http://elections.huffingtonpost.com/pollster/p...   \n",
       "557  http://elections.huffingtonpost.com/pollster/p...   \n",
       "558  http://elections.huffingtonpost.com/pollster/p...   \n",
       "559  http://elections.huffingtonpost.com/pollster/p...   \n",
       "560  http://elections.huffingtonpost.com/pollster/p...   \n",
       "561  http://elections.huffingtonpost.com/pollster/p...   \n",
       "562  http://elections.huffingtonpost.com/pollster/p...   \n",
       "563  http://elections.huffingtonpost.com/pollster/p...   \n",
       "564  http://elections.huffingtonpost.com/pollster/p...   \n",
       "565  http://elections.huffingtonpost.com/pollster/p...   \n",
       "566  http://elections.huffingtonpost.com/pollster/p...   \n",
       "567  http://elections.huffingtonpost.com/pollster/p...   \n",
       "568  http://elections.huffingtonpost.com/pollster/p...   \n",
       "569  http://elections.huffingtonpost.com/pollster/p...   \n",
       "570  http://elections.huffingtonpost.com/pollster/p...   \n",
       "571  http://elections.huffingtonpost.com/pollster/p...   \n",
       "572  http://elections.huffingtonpost.com/pollster/p...   \n",
       "573  http://elections.huffingtonpost.com/pollster/p...   \n",
       "574  http://elections.huffingtonpost.com/pollster/p...   \n",
       "575  http://elections.huffingtonpost.com/pollster/p...   \n",
       "576  http://elections.huffingtonpost.com/pollster/p...   \n",
       "577  http://elections.huffingtonpost.com/pollster/p...   \n",
       "578  http://elections.huffingtonpost.com/pollster/p...   \n",
       "579  http://elections.huffingtonpost.com/pollster/p...   \n",
       "580  http://elections.huffingtonpost.com/pollster/p...   \n",
       "581  http://elections.huffingtonpost.com/pollster/p...   \n",
       "582  http://elections.huffingtonpost.com/pollster/p...   \n",
       "583  http://elections.huffingtonpost.com/pollster/p...   \n",
       "584  http://elections.huffingtonpost.com/pollster/p...   \n",
       "585  http://elections.huffingtonpost.com/pollster/p...   \n",
       "\n",
       "                                            Source URL     Partisan  \\\n",
       "0    http://www.politico.com/news/stories/1112/8338...  Nonpartisan   \n",
       "1    http://cdn.yougov.com/cumulus_uploads/document...  Nonpartisan   \n",
       "2    http://www.gravispolls.com/2012/11/gravis-mark...  Nonpartisan   \n",
       "3    http://news.investors.com/special-report/50841...  Nonpartisan   \n",
       "4    http://www.rasmussenreports.com/public_content...  Nonpartisan   \n",
       "5                          http://www.jzanalytics.com/      Sponsor   \n",
       "6                                                  NaN  Nonpartisan   \n",
       "7    http://big.assets.huffingtonpost.com/ipsos1105...  Nonpartisan   \n",
       "8    http://americanresearchgroup.com/pres2012/NA12...  Nonpartisan   \n",
       "9    http://www.publicpolicypolling.com/pdf/2011/PP...      Sponsor   \n",
       "10   http://i2.cdn.turner.com/cnn/2012/images/11/04...  Nonpartisan   \n",
       "11   http://www.washingtonpost.com/blogs/the-fix/wp...  Nonpartisan   \n",
       "12   http://www.gallup.com/poll/157817/election-201...  Nonpartisan   \n",
       "13     http://www.dailykos.com/weeklypolling/2012/11/1      Sponsor   \n",
       "14   http://cms.monmouth.edu/assets/0/84/159/214748...  Nonpartisan   \n",
       "15   http://big.assets.huffingtonpost.com/demcorpst...     Pollster   \n",
       "16   http://www.angus-reid.com/polls/47681/obama-ho...  Nonpartisan   \n",
       "17   http://firstread.nbcnews.com/_news/2012/11/04/...  Nonpartisan   \n",
       "18   http://cdn.yougov.com/r/1/ygTabs_november_like...  Nonpartisan   \n",
       "19   http://www.people-press.org/2012/11/04/obama-g...  Nonpartisan   \n",
       "20                                                 NaN  Nonpartisan   \n",
       "21   http://www.rasmussenreports.com/public_content...  Nonpartisan   \n",
       "22   http://www.purplestrategies.com/wp-content/upl...  Nonpartisan   \n",
       "23                         http://www.jzanalytics.com/      Sponsor   \n",
       "24   http://www.publicpolicypolling.com/pdf/2011/PP...      Sponsor   \n",
       "25   https://mediarelations.gwu.edu/sites/mediarela...  Nonpartisan   \n",
       "26   http://www.scribd.com/doc/111916274/UPI-CVoter...  Nonpartisan   \n",
       "27   http://www.washingtontimes.com/news/2012/nov/1...  Nonpartisan   \n",
       "28   http://www.washingtonpost.com/blogs/the-fix/wp...  Nonpartisan   \n",
       "29   http://big.assets.huffingtonpost.com/ipsos1031...  Nonpartisan   \n",
       "..                                                 ...          ...   \n",
       "556  http://politicalticker.blogs.cnn.com/2010/11/0...  Nonpartisan   \n",
       "557  http://www.foxnews.com/projects/pdf/100110_fox...  Nonpartisan   \n",
       "558  http://www.publicpolicypolling.com/pdf/PPP_Rel...     Pollster   \n",
       "559  http://www.politico.com/static/PPM152_1008013_...      Sponsor   \n",
       "560  http://www.publicpolicypolling.com/pdf/PPP_Rel...     Pollster   \n",
       "561  http://politics.usnews.com/news/blogs/washingt...  Nonpartisan   \n",
       "562  http://www.politico.com/static/PPM136_100718_p...      Sponsor   \n",
       "563  http://www.publicpolicypolling.com/pdf/PPP_Rel...     Pollster   \n",
       "564  http://www.publicpolicypolling.com/pdf/PPP_Rel...     Pollster   \n",
       "565  http://www.publicpolicypolling.com/pdf/PPP_Rel...     Pollster   \n",
       "566  http://i2.cdn.turner.com/cnn/2010/images/04/13...  Nonpartisan   \n",
       "567  http://www.publicpolicypolling.com/pdf/PPP_Rel...     Pollster   \n",
       "568  http://www.clarusrg.com/sites/default/files/Cl...  Nonpartisan   \n",
       "569  http://www.publicpolicypolling.com/pdf/PPP_Rel...     Pollster   \n",
       "570  http://www.publicpolicypolling.com/pdf/PPP_Rel...     Pollster   \n",
       "571  http://www.publicpolicypolling.com/pdf/PPP_Rel...     Pollster   \n",
       "572  http://www.foxnews.com/projects/pdf/012110_pol...  Nonpartisan   \n",
       "573  http://www.publicpolicypolling.com/pdf/surveys...     Pollster   \n",
       "574  http://www.rasmussenreports.com/public_content...  Nonpartisan   \n",
       "575  http://www.publicpolicypolling.com/pdf/surveys...     Pollster   \n",
       "576  http://www.publicpolicypolling.com/pdf/surveys...     Pollster   \n",
       "577  http://www.publicpolicypolling.com/pdf/surveys...     Pollster   \n",
       "578  http://www.clarusrg.com/press_releases/2009/Ob...  Nonpartisan   \n",
       "579  http://www.publicpolicypolling.com/pdf/surveys...     Pollster   \n",
       "580  http://www.rasmussenreports.com/public_content...  Nonpartisan   \n",
       "581  http://www.publicpolicypolling.com/pdf/surveys...     Pollster   \n",
       "582  http://www.publicpolicypolling.com/pdf/surveys...     Pollster   \n",
       "583  http://www.publicpolicypolling.com/pdf/surveys...     Pollster   \n",
       "584  http://www.publicpolicypolling.com/pdf/surveys...     Pollster   \n",
       "585  http://www.publicpolicypolling.com/pdf/PPP_Rel...     Pollster   \n",
       "\n",
       "    Affiliation  Question Text  Question Iteration  \n",
       "0          None            NaN                   1  \n",
       "1          None            NaN                   1  \n",
       "2          None            NaN                   1  \n",
       "3          None            NaN                   1  \n",
       "4          None            NaN                   1  \n",
       "5           Rep            NaN                   1  \n",
       "6          None            NaN                   1  \n",
       "7          None            NaN                   1  \n",
       "8          None            NaN                   1  \n",
       "9           Dem            NaN                   1  \n",
       "10         None            NaN                   1  \n",
       "11         None            NaN                   1  \n",
       "12         None            NaN                   1  \n",
       "13          Dem            NaN                   1  \n",
       "14         None            NaN                   1  \n",
       "15          Dem            NaN                   1  \n",
       "16         None            NaN                   1  \n",
       "17         None            NaN                   1  \n",
       "18         None            NaN                   1  \n",
       "19         None            NaN                   1  \n",
       "20         None            NaN                   1  \n",
       "21         None            NaN                   1  \n",
       "22         None            NaN                   1  \n",
       "23          Rep            NaN                   1  \n",
       "24          Dem            NaN                   1  \n",
       "25         None            NaN                   1  \n",
       "26         None            NaN                   1  \n",
       "27         None            NaN                   1  \n",
       "28         None            NaN                   1  \n",
       "29         None            NaN                   1  \n",
       "..          ...            ...                 ...  \n",
       "556        None            NaN                   1  \n",
       "557        None            NaN                   1  \n",
       "558         Dem            NaN                   1  \n",
       "559       Other            NaN                   1  \n",
       "560         Dem            NaN                   1  \n",
       "561        None            NaN                   1  \n",
       "562       Other            NaN                   1  \n",
       "563         Dem            NaN                   1  \n",
       "564         Dem            NaN                   1  \n",
       "565         Dem            NaN                   1  \n",
       "566        None            NaN                   1  \n",
       "567         Dem            NaN                   1  \n",
       "568        None            NaN                   1  \n",
       "569         Dem            NaN                   1  \n",
       "570         Dem            NaN                   1  \n",
       "571         Dem            NaN                   1  \n",
       "572        None            NaN                   1  \n",
       "573         Dem            NaN                   1  \n",
       "574        None            NaN                   1  \n",
       "575         Dem            NaN                   1  \n",
       "576         Dem            NaN                   1  \n",
       "577         Dem            NaN                   1  \n",
       "578        None            NaN                   1  \n",
       "579         Dem            NaN                   1  \n",
       "580        None            NaN                   1  \n",
       "581         Dem            NaN                   1  \n",
       "582         Dem            NaN                   1  \n",
       "583         Dem            NaN                   1  \n",
       "584         Dem            NaN                   1  \n",
       "585         Dem            NaN                   1  \n",
       "\n",
       "[586 rows x 17 columns]>"
      ]
     },
     "execution_count": 11,
     "metadata": {},
     "output_type": "execute_result"
    }
   ],
   "source": [
    "poll_df.info"
   ]
  },
  {
   "cell_type": "code",
   "execution_count": 12,
   "metadata": {},
   "outputs": [
    {
     "data": {
      "text/plain": [
       "<seaborn.axisgrid.FacetGrid at 0x23b2965d208>"
      ]
     },
     "execution_count": 12,
     "metadata": {},
     "output_type": "execute_result"
    },
    {
     "data": {
      "image/png": "[encoded data removed]",
      "text/plain": [
       "<matplotlib.figure.Figure at 0x23b29605f28>"
      ]
     },
     "metadata": {},
     "output_type": "display_data"
    }
   ],
   "source": [
    "sns.factorplot('Affiliation',data=poll_df,kind = 'count')"
   ]
  },
  {
   "cell_type": "code",
   "execution_count": 13,
   "metadata": {},
   "outputs": [
    {
     "data": {
      "text/plain": [
       "<seaborn.axisgrid.FacetGrid at 0x23b22bde3c8>"
      ]
     },
     "execution_count": 13,
     "metadata": {},
     "output_type": "execute_result"
    },
    {
     "data": {
      "image/png": "[encoded data removed]",
      "text/plain": [
       "<matplotlib.figure.Figure at 0x23b2979f5c0>"
      ]
     },
     "metadata": {},
     "output_type": "display_data"
    }
   ],
   "source": [
    "sns.factorplot('Affiliation',data=poll_df,hue='Population',kind = 'count')"
   ]
  },
  {
   "cell_type": "code",
   "execution_count": 14,
   "metadata": {},
   "outputs": [
    {
     "data": {
      "text/plain": [
       "<seaborn.axisgrid.FacetGrid at 0x23b299eb2b0>"
      ]
     },
     "execution_count": 14,
     "metadata": {},
     "output_type": "execute_result"
    },
    {
     "data": {
      "image/png": "[encoded data removed]",
      "text/plain": [
       "<matplotlib.figure.Figure at 0x23b297771d0>"
      ]
     },
     "metadata": {},
     "output_type": "display_data"
    }
   ],
   "source": [
    "sns.factorplot('Population',data=poll_df,kind='count',aspect =2)"
   ]
  },
  {
   "cell_type": "code",
   "execution_count": 15,
   "metadata": {},
   "outputs": [
    {
     "data": {
      "text/html": [
       "<div>\n",
       "<style>\n",
       "    .dataframe thead tr:only-child th {\n",
       "        text-align: right;\n",
       "    }\n",
       "\n",
       "    .dataframe thead th {\n",
       "        text-align: left;\n",
       "    }\n",
       "\n",
       "    .dataframe tbody tr th {\n",
       "        vertical-align: top;\n",
       "    }\n",
       "</style>\n",
       "<table border=\"1\" class=\"dataframe\">\n",
       "  <thead>\n",
       "    <tr style=\"text-align: right;\">\n",
       "      <th></th>\n",
       "      <th>Pollster</th>\n",
       "      <th>Start Date</th>\n",
       "      <th>End Date</th>\n",
       "      <th>Entry Date/Time (ET)</th>\n",
       "      <th>Number of Observations</th>\n",
       "      <th>Population</th>\n",
       "      <th>Mode</th>\n",
       "      <th>Obama</th>\n",
       "      <th>Romney</th>\n",
       "      <th>Undecided</th>\n",
       "      <th>Other</th>\n",
       "      <th>Pollster URL</th>\n",
       "      <th>Source URL</th>\n",
       "      <th>Partisan</th>\n",
       "      <th>Affiliation</th>\n",
       "      <th>Question Text</th>\n",
       "      <th>Question Iteration</th>\n",
       "    </tr>\n",
       "  </thead>\n",
       "  <tbody>\n",
       "    <tr>\n",
       "      <th>0</th>\n",
       "      <td>Politico/GWU/Battleground</td>\n",
       "      <td>2012-11-04</td>\n",
       "      <td>2012-11-05</td>\n",
       "      <td>2012-11-06T08:40:26Z</td>\n",
       "      <td>1000.0</td>\n",
       "      <td>Likely Voters</td>\n",
       "      <td>Live Phone</td>\n",
       "      <td>47.0</td>\n",
       "      <td>47.0</td>\n",
       "      <td>6.0</td>\n",
       "      <td>NaN</td>\n",
       "      <td>http://elections.huffingtonpost.com/pollster/p...</td>\n",
       "      <td>http://www.politico.com/news/stories/1112/8338...</td>\n",
       "      <td>Nonpartisan</td>\n",
       "      <td>None</td>\n",
       "      <td>NaN</td>\n",
       "      <td>1</td>\n",
       "    </tr>\n",
       "    <tr>\n",
       "      <th>1</th>\n",
       "      <td>YouGov/Economist</td>\n",
       "      <td>2012-11-03</td>\n",
       "      <td>2012-11-05</td>\n",
       "      <td>2012-11-26T15:31:23Z</td>\n",
       "      <td>740.0</td>\n",
       "      <td>Likely Voters</td>\n",
       "      <td>Internet</td>\n",
       "      <td>49.0</td>\n",
       "      <td>47.0</td>\n",
       "      <td>3.0</td>\n",
       "      <td>NaN</td>\n",
       "      <td>http://elections.huffingtonpost.com/pollster/p...</td>\n",
       "      <td>http://cdn.yougov.com/cumulus_uploads/document...</td>\n",
       "      <td>Nonpartisan</td>\n",
       "      <td>None</td>\n",
       "      <td>NaN</td>\n",
       "      <td>1</td>\n",
       "    </tr>\n",
       "    <tr>\n",
       "      <th>2</th>\n",
       "      <td>Gravis Marketing</td>\n",
       "      <td>2012-11-03</td>\n",
       "      <td>2012-11-05</td>\n",
       "      <td>2012-11-06T09:22:02Z</td>\n",
       "      <td>872.0</td>\n",
       "      <td>Likely Voters</td>\n",
       "      <td>Automated Phone</td>\n",
       "      <td>48.0</td>\n",
       "      <td>48.0</td>\n",
       "      <td>4.0</td>\n",
       "      <td>NaN</td>\n",
       "      <td>http://elections.huffingtonpost.com/pollster/p...</td>\n",
       "      <td>http://www.gravispolls.com/2012/11/gravis-mark...</td>\n",
       "      <td>Nonpartisan</td>\n",
       "      <td>None</td>\n",
       "      <td>NaN</td>\n",
       "      <td>1</td>\n",
       "    </tr>\n",
       "    <tr>\n",
       "      <th>3</th>\n",
       "      <td>IBD/TIPP</td>\n",
       "      <td>2012-11-03</td>\n",
       "      <td>2012-11-05</td>\n",
       "      <td>2012-11-06T08:51:48Z</td>\n",
       "      <td>712.0</td>\n",
       "      <td>Likely Voters</td>\n",
       "      <td>Live Phone</td>\n",
       "      <td>50.0</td>\n",
       "      <td>49.0</td>\n",
       "      <td>NaN</td>\n",
       "      <td>1.0</td>\n",
       "      <td>http://elections.huffingtonpost.com/pollster/p...</td>\n",
       "      <td>http://news.investors.com/special-report/50841...</td>\n",
       "      <td>Nonpartisan</td>\n",
       "      <td>None</td>\n",
       "      <td>NaN</td>\n",
       "      <td>1</td>\n",
       "    </tr>\n",
       "    <tr>\n",
       "      <th>4</th>\n",
       "      <td>Rasmussen</td>\n",
       "      <td>2012-11-03</td>\n",
       "      <td>2012-11-05</td>\n",
       "      <td>2012-11-06T08:47:50Z</td>\n",
       "      <td>1500.0</td>\n",
       "      <td>Likely Voters</td>\n",
       "      <td>Automated Phone</td>\n",
       "      <td>48.0</td>\n",
       "      <td>49.0</td>\n",
       "      <td>NaN</td>\n",
       "      <td>NaN</td>\n",
       "      <td>http://elections.huffingtonpost.com/pollster/p...</td>\n",
       "      <td>http://www.rasmussenreports.com/public_content...</td>\n",
       "      <td>Nonpartisan</td>\n",
       "      <td>None</td>\n",
       "      <td>NaN</td>\n",
       "      <td>1</td>\n",
       "    </tr>\n",
       "  </tbody>\n",
       "</table>\n",
       "</div>"
      ],
      "text/plain": [
       "                    Pollster  Start Date    End Date  Entry Date/Time (ET)  \\\n",
       "0  Politico/GWU/Battleground  2012-11-04  2012-11-05  2012-11-06T08:40:26Z   \n",
       "1           YouGov/Economist  2012-11-03  2012-11-05  2012-11-26T15:31:23Z   \n",
       "2           Gravis Marketing  2012-11-03  2012-11-05  2012-11-06T09:22:02Z   \n",
       "3                   IBD/TIPP  2012-11-03  2012-11-05  2012-11-06T08:51:48Z   \n",
       "4                  Rasmussen  2012-11-03  2012-11-05  2012-11-06T08:47:50Z   \n",
       "\n",
       "   Number of Observations     Population             Mode  Obama  Romney  \\\n",
       "0                  1000.0  Likely Voters       Live Phone   47.0    47.0   \n",
       "1                   740.0  Likely Voters         Internet   49.0    47.0   \n",
       "2                   872.0  Likely Voters  Automated Phone   48.0    48.0   \n",
       "3                   712.0  Likely Voters       Live Phone   50.0    49.0   \n",
       "4                  1500.0  Likely Voters  Automated Phone   48.0    49.0   \n",
       "\n",
       "   Undecided  Other                                       Pollster URL  \\\n",
       "0        6.0    NaN  http://elections.huffingtonpost.com/pollster/p...   \n",
       "1        3.0    NaN  http://elections.huffingtonpost.com/pollster/p...   \n",
       "2        4.0    NaN  http://elections.huffingtonpost.com/pollster/p...   \n",
       "3        NaN    1.0  http://elections.huffingtonpost.com/pollster/p...   \n",
       "4        NaN    NaN  http://elections.huffingtonpost.com/pollster/p...   \n",
       "\n",
       "                                          Source URL     Partisan Affiliation  \\\n",
       "0  http://www.politico.com/news/stories/1112/8338...  Nonpartisan        None   \n",
       "1  http://cdn.yougov.com/cumulus_uploads/document...  Nonpartisan        None   \n",
       "2  http://www.gravispolls.com/2012/11/gravis-mark...  Nonpartisan        None   \n",
       "3  http://news.investors.com/special-report/50841...  Nonpartisan        None   \n",
       "4  http://www.rasmussenreports.com/public_content...  Nonpartisan        None   \n",
       "\n",
       "   Question Text  Question Iteration  \n",
       "0            NaN                   1  \n",
       "1            NaN                   1  \n",
       "2            NaN                   1  \n",
       "3            NaN                   1  \n",
       "4            NaN                   1  "
      ]
     },
     "execution_count": 15,
     "metadata": {},
     "output_type": "execute_result"
    }
   ],
   "source": [
    "poll_df.head()"
   ]
  },
  {
   "cell_type": "code",
   "execution_count": 16,
   "metadata": {},
   "outputs": [
    {
     "data": {
      "text/html": [
       "<div>\n",
       "<style>\n",
       "    .dataframe thead tr:only-child th {\n",
       "        text-align: right;\n",
       "    }\n",
       "\n",
       "    .dataframe thead th {\n",
       "        text-align: left;\n",
       "    }\n",
       "\n",
       "    .dataframe tbody tr th {\n",
       "        vertical-align: top;\n",
       "    }\n",
       "</style>\n",
       "<table border=\"1\" class=\"dataframe\">\n",
       "  <thead>\n",
       "    <tr style=\"text-align: right;\">\n",
       "      <th></th>\n",
       "      <th>0</th>\n",
       "    </tr>\n",
       "  </thead>\n",
       "  <tbody>\n",
       "    <tr>\n",
       "      <th>Number of Observations</th>\n",
       "      <td>1296.679078</td>\n",
       "    </tr>\n",
       "    <tr>\n",
       "      <th>Obama</th>\n",
       "      <td>46.805461</td>\n",
       "    </tr>\n",
       "    <tr>\n",
       "      <th>Romney</th>\n",
       "      <td>44.614334</td>\n",
       "    </tr>\n",
       "    <tr>\n",
       "      <th>Undecided</th>\n",
       "      <td>6.550827</td>\n",
       "    </tr>\n",
       "    <tr>\n",
       "      <th>Other</th>\n",
       "      <td>3.376238</td>\n",
       "    </tr>\n",
       "  </tbody>\n",
       "</table>\n",
       "</div>"
      ],
      "text/plain": [
       "                                  0\n",
       "Number of Observations  1296.679078\n",
       "Obama                     46.805461\n",
       "Romney                    44.614334\n",
       "Undecided                  6.550827\n",
       "Other                      3.376238"
      ]
     },
     "execution_count": 16,
     "metadata": {},
     "output_type": "execute_result"
    }
   ],
   "source": [
    "avg = pd.DataFrame(poll_df.mean())\n",
    "#Since Averages are calculated only for numeric values\n",
    "#Only four columns in above dataframe give the average\n",
    "avg.head()\n",
    "#Number of Observations,\n",
    "#percentage of People supporting below candidates\n",
    "#Obama,Romney,undecided,other"
   ]
  },
  {
   "cell_type": "code",
   "execution_count": 17,
   "metadata": {
    "collapsed": true
   },
   "outputs": [],
   "source": [
    "avg.drop('Number of Observations',axis = 0,inplace=True)"
   ]
  },
  {
   "cell_type": "code",
   "execution_count": 18,
   "metadata": {},
   "outputs": [
    {
     "data": {
      "text/html": [
       "<div>\n",
       "<style>\n",
       "    .dataframe thead tr:only-child th {\n",
       "        text-align: right;\n",
       "    }\n",
       "\n",
       "    .dataframe thead th {\n",
       "        text-align: left;\n",
       "    }\n",
       "\n",
       "    .dataframe tbody tr th {\n",
       "        vertical-align: top;\n",
       "    }\n",
       "</style>\n",
       "<table border=\"1\" class=\"dataframe\">\n",
       "  <thead>\n",
       "    <tr style=\"text-align: right;\">\n",
       "      <th></th>\n",
       "      <th>0</th>\n",
       "    </tr>\n",
       "  </thead>\n",
       "  <tbody>\n",
       "    <tr>\n",
       "      <th>Obama</th>\n",
       "      <td>46.805461</td>\n",
       "    </tr>\n",
       "    <tr>\n",
       "      <th>Romney</th>\n",
       "      <td>44.614334</td>\n",
       "    </tr>\n",
       "    <tr>\n",
       "      <th>Undecided</th>\n",
       "      <td>6.550827</td>\n",
       "    </tr>\n",
       "    <tr>\n",
       "      <th>Other</th>\n",
       "      <td>3.376238</td>\n",
       "    </tr>\n",
       "    <tr>\n",
       "      <th>Question Text</th>\n",
       "      <td>NaN</td>\n",
       "    </tr>\n",
       "    <tr>\n",
       "      <th>Question Iteration</th>\n",
       "      <td>1.000000</td>\n",
       "    </tr>\n",
       "  </tbody>\n",
       "</table>\n",
       "</div>"
      ],
      "text/plain": [
       "                            0\n",
       "Obama               46.805461\n",
       "Romney              44.614334\n",
       "Undecided            6.550827\n",
       "Other                3.376238\n",
       "Question Text             NaN\n",
       "Question Iteration   1.000000"
      ]
     },
     "execution_count": 18,
     "metadata": {},
     "output_type": "execute_result"
    }
   ],
   "source": [
    "avg"
   ]
  },
  {
   "cell_type": "code",
   "execution_count": 19,
   "metadata": {
    "collapsed": true
   },
   "outputs": [],
   "source": [
    "#Get the standard Deviation of all the columns\n",
    "std = pd.DataFrame(poll_df.std())\n",
    "std.drop('Number of Observations',axis = 0,inplace = True)"
   ]
  },
  {
   "cell_type": "code",
   "execution_count": 20,
   "metadata": {
    "collapsed": true
   },
   "outputs": [],
   "source": [
    "std.drop('Question Text',axis = 0,inplace = True)"
   ]
  },
  {
   "cell_type": "code",
   "execution_count": null,
   "metadata": {
    "collapsed": true
   },
   "outputs": [],
   "source": []
  },
  {
   "cell_type": "code",
   "execution_count": 21,
   "metadata": {
    "collapsed": true
   },
   "outputs": [],
   "source": [
    "std.drop('Other',axis = 0,inplace = True)"
   ]
  },
  {
   "cell_type": "code",
   "execution_count": 22,
   "metadata": {},
   "outputs": [
    {
     "data": {
      "text/html": [
       "<div>\n",
       "<style>\n",
       "    .dataframe thead tr:only-child th {\n",
       "        text-align: right;\n",
       "    }\n",
       "\n",
       "    .dataframe thead th {\n",
       "        text-align: left;\n",
       "    }\n",
       "\n",
       "    .dataframe tbody tr th {\n",
       "        vertical-align: top;\n",
       "    }\n",
       "</style>\n",
       "<table border=\"1\" class=\"dataframe\">\n",
       "  <thead>\n",
       "    <tr style=\"text-align: right;\">\n",
       "      <th></th>\n",
       "      <th>0</th>\n",
       "    </tr>\n",
       "  </thead>\n",
       "  <tbody>\n",
       "    <tr>\n",
       "      <th>Obama</th>\n",
       "      <td>2.422058</td>\n",
       "    </tr>\n",
       "    <tr>\n",
       "      <th>Romney</th>\n",
       "      <td>2.906180</td>\n",
       "    </tr>\n",
       "    <tr>\n",
       "      <th>Undecided</th>\n",
       "      <td>3.701754</td>\n",
       "    </tr>\n",
       "    <tr>\n",
       "      <th>Question Iteration</th>\n",
       "      <td>0.000000</td>\n",
       "    </tr>\n",
       "  </tbody>\n",
       "</table>\n",
       "</div>"
      ],
      "text/plain": [
       "                           0\n",
       "Obama               2.422058\n",
       "Romney              2.906180\n",
       "Undecided           3.701754\n",
       "Question Iteration  0.000000"
      ]
     },
     "execution_count": 22,
     "metadata": {},
     "output_type": "execute_result"
    }
   ],
   "source": [
    "std"
   ]
  },
  {
   "cell_type": "code",
   "execution_count": 23,
   "metadata": {},
   "outputs": [
    {
     "data": {
      "text/plain": [
       "<matplotlib.axes._subplots.AxesSubplot at 0x23b29e76860>"
      ]
     },
     "execution_count": 23,
     "metadata": {},
     "output_type": "execute_result"
    },
    {
     "data": {
      "image/png": "[encoded data removed]",
      "text/plain": [
       "<matplotlib.figure.Figure at 0x23b29e68550>"
      ]
     },
     "metadata": {},
     "output_type": "display_data"
    }
   ],
   "source": [
    "avg.plot(yerr=std,kind = 'bar',legend = False)"
   ]
  },
  {
   "cell_type": "code",
   "execution_count": 24,
   "metadata": {
    "collapsed": true
   },
   "outputs": [],
   "source": [
    "poll_avg = pd.concat([avg,std],axis=1)"
   ]
  },
  {
   "cell_type": "code",
   "execution_count": 25,
   "metadata": {},
   "outputs": [
    {
     "data": {
      "text/html": [
       "<div>\n",
       "<style>\n",
       "    .dataframe thead tr:only-child th {\n",
       "        text-align: right;\n",
       "    }\n",
       "\n",
       "    .dataframe thead th {\n",
       "        text-align: left;\n",
       "    }\n",
       "\n",
       "    .dataframe tbody tr th {\n",
       "        vertical-align: top;\n",
       "    }\n",
       "</style>\n",
       "<table border=\"1\" class=\"dataframe\">\n",
       "  <thead>\n",
       "    <tr style=\"text-align: right;\">\n",
       "      <th></th>\n",
       "      <th>0</th>\n",
       "      <th>0</th>\n",
       "    </tr>\n",
       "  </thead>\n",
       "  <tbody>\n",
       "    <tr>\n",
       "      <th>Obama</th>\n",
       "      <td>46.805461</td>\n",
       "      <td>2.422058</td>\n",
       "    </tr>\n",
       "    <tr>\n",
       "      <th>Other</th>\n",
       "      <td>3.376238</td>\n",
       "      <td>NaN</td>\n",
       "    </tr>\n",
       "    <tr>\n",
       "      <th>Question Iteration</th>\n",
       "      <td>1.000000</td>\n",
       "      <td>0.000000</td>\n",
       "    </tr>\n",
       "    <tr>\n",
       "      <th>Question Text</th>\n",
       "      <td>NaN</td>\n",
       "      <td>NaN</td>\n",
       "    </tr>\n",
       "    <tr>\n",
       "      <th>Romney</th>\n",
       "      <td>44.614334</td>\n",
       "      <td>2.906180</td>\n",
       "    </tr>\n",
       "    <tr>\n",
       "      <th>Undecided</th>\n",
       "      <td>6.550827</td>\n",
       "      <td>3.701754</td>\n",
       "    </tr>\n",
       "  </tbody>\n",
       "</table>\n",
       "</div>"
      ],
      "text/plain": [
       "                            0         0\n",
       "Obama               46.805461  2.422058\n",
       "Other                3.376238       NaN\n",
       "Question Iteration   1.000000  0.000000\n",
       "Question Text             NaN       NaN\n",
       "Romney              44.614334  2.906180\n",
       "Undecided            6.550827  3.701754"
      ]
     },
     "execution_count": 25,
     "metadata": {},
     "output_type": "execute_result"
    }
   ],
   "source": [
    "poll_avg"
   ]
  },
  {
   "cell_type": "code",
   "execution_count": 26,
   "metadata": {
    "collapsed": true
   },
   "outputs": [],
   "source": [
    "poll_avg.columns = ['Average','Std']"
   ]
  },
  {
   "cell_type": "code",
   "execution_count": 27,
   "metadata": {},
   "outputs": [
    {
     "data": {
      "text/html": [
       "<div>\n",
       "<style>\n",
       "    .dataframe thead tr:only-child th {\n",
       "        text-align: right;\n",
       "    }\n",
       "\n",
       "    .dataframe thead th {\n",
       "        text-align: left;\n",
       "    }\n",
       "\n",
       "    .dataframe tbody tr th {\n",
       "        vertical-align: top;\n",
       "    }\n",
       "</style>\n",
       "<table border=\"1\" class=\"dataframe\">\n",
       "  <thead>\n",
       "    <tr style=\"text-align: right;\">\n",
       "      <th></th>\n",
       "      <th>Average</th>\n",
       "      <th>Std</th>\n",
       "    </tr>\n",
       "  </thead>\n",
       "  <tbody>\n",
       "    <tr>\n",
       "      <th>Obama</th>\n",
       "      <td>46.805461</td>\n",
       "      <td>2.422058</td>\n",
       "    </tr>\n",
       "    <tr>\n",
       "      <th>Other</th>\n",
       "      <td>3.376238</td>\n",
       "      <td>NaN</td>\n",
       "    </tr>\n",
       "    <tr>\n",
       "      <th>Question Iteration</th>\n",
       "      <td>1.000000</td>\n",
       "      <td>0.000000</td>\n",
       "    </tr>\n",
       "    <tr>\n",
       "      <th>Question Text</th>\n",
       "      <td>NaN</td>\n",
       "      <td>NaN</td>\n",
       "    </tr>\n",
       "    <tr>\n",
       "      <th>Romney</th>\n",
       "      <td>44.614334</td>\n",
       "      <td>2.906180</td>\n",
       "    </tr>\n",
       "    <tr>\n",
       "      <th>Undecided</th>\n",
       "      <td>6.550827</td>\n",
       "      <td>3.701754</td>\n",
       "    </tr>\n",
       "  </tbody>\n",
       "</table>\n",
       "</div>"
      ],
      "text/plain": [
       "                      Average       Std\n",
       "Obama               46.805461  2.422058\n",
       "Other                3.376238       NaN\n",
       "Question Iteration   1.000000  0.000000\n",
       "Question Text             NaN       NaN\n",
       "Romney              44.614334  2.906180\n",
       "Undecided            6.550827  3.701754"
      ]
     },
     "execution_count": 27,
     "metadata": {},
     "output_type": "execute_result"
    }
   ],
   "source": [
    "poll_avg"
   ]
  },
  {
   "cell_type": "code",
   "execution_count": 28,
   "metadata": {},
   "outputs": [
    {
     "data": {
      "text/plain": [
       "<matplotlib.axes._subplots.AxesSubplot at 0x23b29f90fd0>"
      ]
     },
     "execution_count": 28,
     "metadata": {},
     "output_type": "execute_result"
    },
    {
     "data": {
      "image/png": "[encoded data removed]",
      "text/plain": [
       "<matplotlib.figure.Figure at 0x23b29f82e80>"
      ]
     },
     "metadata": {},
     "output_type": "display_data"
    }
   ],
   "source": [
    "#At any given point of time how many percentage of people \n",
    "#voted for a particular candidate and how many were undecided voters\n",
    "\n",
    "poll_df.plot(x='End Date',y=['Obama','Romney','Undecided'],linestyle ='',marker = 'o')"
   ]
  },
  {
   "cell_type": "code",
   "execution_count": 29,
   "metadata": {
    "collapsed": true
   },
   "outputs": [],
   "source": [
    "#Now let's check the trend of difference in votes amongst the two candidates\n",
    "poll_df['diff_in_votes'] = poll_df['Obama']-poll_df['Romney']"
   ]
  },
  {
   "cell_type": "code",
   "execution_count": 30,
   "metadata": {
    "collapsed": true
   },
   "outputs": [],
   "source": [
    "poll_df.head()\n",
    "#as_index = False means I don't want to keep Start Date as the index\n",
    "#but original serial number as the index\n",
    "#Group by Start Date \n",
    "#and take mean of all the numeric columns acc to start Date\n",
    "poll_df = poll_df.groupby(['Start Date'],as_index = False).mean()"
   ]
  },
  {
   "cell_type": "code",
   "execution_count": 31,
   "metadata": {},
   "outputs": [
    {
     "data": {
      "text/plain": [
       "<matplotlib.axes._subplots.AxesSubplot at 0x23b29ecee80>"
      ]
     },
     "execution_count": 31,
     "metadata": {},
     "output_type": "execute_result"
    },
    {
     "data": {
      "image/png": "[encoded data removed]",
      "text/plain": [
       "<matplotlib.figure.Figure at 0x23b29e61860>"
      ]
     },
     "metadata": {},
     "output_type": "display_data"
    }
   ],
   "source": [
    "poll_df.head()\n",
    "poll_df.plot('Start Date','diff_in_votes',figsize = (12,4),marker = 'o',linestyle = '-',color = 'purple')"
   ]
  },
  {
   "cell_type": "code",
   "execution_count": 32,
   "metadata": {},
   "outputs": [
    {
     "name": "stdout",
     "output_type": "stream",
     "text": [
      "325\n",
      "352\n"
     ]
    }
   ],
   "source": [
    "row_in = 0\n",
    "xlimit = []   \n",
    "for date in poll_df['Start Date']:\n",
    "    if date[0:7] == '2012-10':\n",
    "        xlimit.append(row_in)\n",
    "        row_in += 1\n",
    "    else:\n",
    "        row_in += 1\n",
    "        \n",
    "print(min(xlimit))\n",
    "print(max(xlimit))"
   ]
  },
  {
   "cell_type": "code",
   "execution_count": 33,
   "metadata": {},
   "outputs": [
    {
     "data": {
      "image/png": "[encoded data removed]",
      "text/plain": [
       "<matplotlib.figure.Figure at 0x23b2a106d68>"
      ]
     },
     "metadata": {},
     "output_type": "display_data"
    }
   ],
   "source": [
    "#get the xlimits between the month when the debates took place\n",
    "#to see how voters sentiments changed after.\n",
    "fig = poll_df.plot('Start Date','diff_in_votes',figsize = (12,4),marker = 'o',linestyle = '-',color = 'purple',xlim = (329,356))"
   ]
  },
  {
   "cell_type": "code",
   "execution_count": 34,
   "metadata": {},
   "outputs": [
    {
     "data": {
      "text/plain": [
       "<matplotlib.lines.Line2D at 0x23b29f433c8>"
      ]
     },
     "execution_count": 34,
     "metadata": {},
     "output_type": "execute_result"
    },
    {
     "data": {
      "image/png": "[encoded data removed]",
      "text/plain": [
       "<matplotlib.figure.Figure at 0x23b29faf160>"
      ]
     },
     "metadata": {},
     "output_type": "display_data"
    }
   ],
   "source": [
    "fig = poll_df.plot('Start Date','diff_in_votes',figsize=(12,4),marker='o',linestyle='-',color='purple',xlim=(329,356))\n",
    "#Plotting vertical lines \n",
    "#on days of debate i.e 2nd October, 11th october and 21st October\n",
    "#and seeing how the voter sentiments change\n",
    "plt.axvline(x=329+2, linewidth=4, color='grey')\n",
    "plt.axvline(x=329+10, linewidth=4, color='grey')\n",
    "plt.axvline(x=329+21, linewidth=4, color='grey')"
   ]
  },
  {
   "cell_type": "code",
   "execution_count": 35,
   "metadata": {},
   "outputs": [],
   "source": [
    "donor_df = pd.read_csv('Election_Donor_Data.csv',low_memory = False)"
   ]
  },
  {
   "cell_type": "code",
   "execution_count": 36,
   "metadata": {},
   "outputs": [
    {
     "name": "stdout",
     "output_type": "stream",
     "text": [
      "<class 'pandas.core.frame.DataFrame'>\n",
      "RangeIndex: 1001731 entries, 0 to 1001730\n",
      "Data columns (total 16 columns):\n",
      "cmte_id              1001731 non-null object\n",
      "cand_id              1001731 non-null object\n",
      "cand_nm              1001731 non-null object\n",
      "contbr_nm            1001731 non-null object\n",
      "contbr_city          1001712 non-null object\n",
      "contbr_st            1001727 non-null object\n",
      "contbr_zip           1001620 non-null object\n",
      "contbr_employer      988002 non-null object\n",
      "contbr_occupation    993301 non-null object\n",
      "contb_receipt_amt    1001731 non-null float64\n",
      "contb_receipt_dt     1001731 non-null object\n",
      "receipt_desc         14166 non-null object\n",
      "memo_cd              92482 non-null object\n",
      "memo_text            97770 non-null object\n",
      "form_tp              1001731 non-null object\n",
      "file_num             1001731 non-null int64\n",
      "dtypes: float64(1), int64(1), object(14)\n",
      "memory usage: 122.3+ MB\n"
     ]
    }
   ],
   "source": [
    "donor_df.info()"
   ]
  },
  {
   "cell_type": "code",
   "execution_count": 37,
   "metadata": {},
   "outputs": [
    {
     "data": {
      "text/html": [
       "<div>\n",
       "<style>\n",
       "    .dataframe thead tr:only-child th {\n",
       "        text-align: right;\n",
       "    }\n",
       "\n",
       "    .dataframe thead th {\n",
       "        text-align: left;\n",
       "    }\n",
       "\n",
       "    .dataframe tbody tr th {\n",
       "        vertical-align: top;\n",
       "    }\n",
       "</style>\n",
       "<table border=\"1\" class=\"dataframe\">\n",
       "  <thead>\n",
       "    <tr style=\"text-align: right;\">\n",
       "      <th></th>\n",
       "      <th>cmte_id</th>\n",
       "      <th>cand_id</th>\n",
       "      <th>cand_nm</th>\n",
       "      <th>contbr_nm</th>\n",
       "      <th>contbr_city</th>\n",
       "      <th>contbr_st</th>\n",
       "      <th>contbr_zip</th>\n",
       "      <th>contbr_employer</th>\n",
       "      <th>contbr_occupation</th>\n",
       "      <th>contb_receipt_amt</th>\n",
       "      <th>contb_receipt_dt</th>\n",
       "      <th>receipt_desc</th>\n",
       "      <th>memo_cd</th>\n",
       "      <th>memo_text</th>\n",
       "      <th>form_tp</th>\n",
       "      <th>file_num</th>\n",
       "    </tr>\n",
       "  </thead>\n",
       "  <tbody>\n",
       "    <tr>\n",
       "      <th>0</th>\n",
       "      <td>C00410118</td>\n",
       "      <td>P20002978</td>\n",
       "      <td>Bachmann, Michelle</td>\n",
       "      <td>HARVEY, WILLIAM</td>\n",
       "      <td>MOBILE</td>\n",
       "      <td>AL</td>\n",
       "      <td>366010290</td>\n",
       "      <td>RETIRED</td>\n",
       "      <td>RETIRED</td>\n",
       "      <td>250.0</td>\n",
       "      <td>20-JUN-11</td>\n",
       "      <td>NaN</td>\n",
       "      <td>NaN</td>\n",
       "      <td>NaN</td>\n",
       "      <td>SA17A</td>\n",
       "      <td>736166</td>\n",
       "    </tr>\n",
       "    <tr>\n",
       "      <th>1</th>\n",
       "      <td>C00410118</td>\n",
       "      <td>P20002978</td>\n",
       "      <td>Bachmann, Michelle</td>\n",
       "      <td>HARVEY, WILLIAM</td>\n",
       "      <td>MOBILE</td>\n",
       "      <td>AL</td>\n",
       "      <td>366010290</td>\n",
       "      <td>RETIRED</td>\n",
       "      <td>RETIRED</td>\n",
       "      <td>50.0</td>\n",
       "      <td>23-JUN-11</td>\n",
       "      <td>NaN</td>\n",
       "      <td>NaN</td>\n",
       "      <td>NaN</td>\n",
       "      <td>SA17A</td>\n",
       "      <td>736166</td>\n",
       "    </tr>\n",
       "    <tr>\n",
       "      <th>2</th>\n",
       "      <td>C00410118</td>\n",
       "      <td>P20002978</td>\n",
       "      <td>Bachmann, Michelle</td>\n",
       "      <td>SMITH, LANIER</td>\n",
       "      <td>LANETT</td>\n",
       "      <td>AL</td>\n",
       "      <td>368633403</td>\n",
       "      <td>INFORMATION REQUESTED</td>\n",
       "      <td>INFORMATION REQUESTED</td>\n",
       "      <td>250.0</td>\n",
       "      <td>05-JUL-11</td>\n",
       "      <td>NaN</td>\n",
       "      <td>NaN</td>\n",
       "      <td>NaN</td>\n",
       "      <td>SA17A</td>\n",
       "      <td>749073</td>\n",
       "    </tr>\n",
       "    <tr>\n",
       "      <th>3</th>\n",
       "      <td>C00410118</td>\n",
       "      <td>P20002978</td>\n",
       "      <td>Bachmann, Michelle</td>\n",
       "      <td>BLEVINS, DARONDA</td>\n",
       "      <td>PIGGOTT</td>\n",
       "      <td>AR</td>\n",
       "      <td>724548253</td>\n",
       "      <td>NONE</td>\n",
       "      <td>RETIRED</td>\n",
       "      <td>250.0</td>\n",
       "      <td>01-AUG-11</td>\n",
       "      <td>NaN</td>\n",
       "      <td>NaN</td>\n",
       "      <td>NaN</td>\n",
       "      <td>SA17A</td>\n",
       "      <td>749073</td>\n",
       "    </tr>\n",
       "    <tr>\n",
       "      <th>4</th>\n",
       "      <td>C00410118</td>\n",
       "      <td>P20002978</td>\n",
       "      <td>Bachmann, Michelle</td>\n",
       "      <td>WARDENBURG, HAROLD</td>\n",
       "      <td>HOT SPRINGS NATION</td>\n",
       "      <td>AR</td>\n",
       "      <td>719016467</td>\n",
       "      <td>NONE</td>\n",
       "      <td>RETIRED</td>\n",
       "      <td>300.0</td>\n",
       "      <td>20-JUN-11</td>\n",
       "      <td>NaN</td>\n",
       "      <td>NaN</td>\n",
       "      <td>NaN</td>\n",
       "      <td>SA17A</td>\n",
       "      <td>736166</td>\n",
       "    </tr>\n",
       "  </tbody>\n",
       "</table>\n",
       "</div>"
      ],
      "text/plain": [
       "     cmte_id    cand_id             cand_nm           contbr_nm  \\\n",
       "0  C00410118  P20002978  Bachmann, Michelle     HARVEY, WILLIAM   \n",
       "1  C00410118  P20002978  Bachmann, Michelle     HARVEY, WILLIAM   \n",
       "2  C00410118  P20002978  Bachmann, Michelle       SMITH, LANIER   \n",
       "3  C00410118  P20002978  Bachmann, Michelle    BLEVINS, DARONDA   \n",
       "4  C00410118  P20002978  Bachmann, Michelle  WARDENBURG, HAROLD   \n",
       "\n",
       "          contbr_city contbr_st contbr_zip        contbr_employer  \\\n",
       "0              MOBILE        AL  366010290                RETIRED   \n",
       "1              MOBILE        AL  366010290                RETIRED   \n",
       "2              LANETT        AL  368633403  INFORMATION REQUESTED   \n",
       "3             PIGGOTT        AR  724548253                   NONE   \n",
       "4  HOT SPRINGS NATION        AR  719016467                   NONE   \n",
       "\n",
       "       contbr_occupation  contb_receipt_amt contb_receipt_dt receipt_desc  \\\n",
       "0                RETIRED              250.0        20-JUN-11          NaN   \n",
       "1                RETIRED               50.0        23-JUN-11          NaN   \n",
       "2  INFORMATION REQUESTED              250.0        05-JUL-11          NaN   \n",
       "3                RETIRED              250.0        01-AUG-11          NaN   \n",
       "4                RETIRED              300.0        20-JUN-11          NaN   \n",
       "\n",
       "  memo_cd memo_text form_tp  file_num  \n",
       "0     NaN       NaN   SA17A    736166  \n",
       "1     NaN       NaN   SA17A    736166  \n",
       "2     NaN       NaN   SA17A    749073  \n",
       "3     NaN       NaN   SA17A    749073  \n",
       "4     NaN       NaN   SA17A    736166  "
      ]
     },
     "execution_count": 37,
     "metadata": {},
     "output_type": "execute_result"
    }
   ],
   "source": [
    "donor_df.head()"
   ]
  },
  {
   "cell_type": "code",
   "execution_count": 38,
   "metadata": {},
   "outputs": [
    {
     "data": {
      "text/plain": [
       " 100.00     178188\n",
       " 50.00      137584\n",
       " 25.00      110345\n",
       " 250.00      91182\n",
       " 500.00      57984\n",
       " 2500.00     49005\n",
       " 35.00       37237\n",
       " 1000.00     36494\n",
       " 10.00       33986\n",
       " 200.00      27813\n",
       " 20.00       17565\n",
       " 15.00       16163\n",
       " 150.00      14600\n",
       " 75.00       13647\n",
       " 201.20      11718\n",
       " 30.00       11381\n",
       " 300.00      11204\n",
       " 20.12        9897\n",
       " 5.00         9024\n",
       " 40.00        5007\n",
       " 2000.00      4128\n",
       " 55.00        3760\n",
       " 1500.00      3705\n",
       " 3.00         3383\n",
       " 60.00        3084\n",
       " 400.00       3066\n",
       "-2500.00      2727\n",
       " 110.00       2554\n",
       " 125.00       2520\n",
       " 19.00        2474\n",
       "             ...  \n",
       " 174.80          1\n",
       " 7.27            1\n",
       " 1219.00         1\n",
       " 1884.88         1\n",
       " 162.25          1\n",
       " 218.31          1\n",
       " 78.62           1\n",
       " 203.16          1\n",
       " 53.11           1\n",
       " 499.66          1\n",
       " 19.53           1\n",
       " 188.60          1\n",
       " 47.10           1\n",
       " 19.85           1\n",
       " 28.83           1\n",
       " 202.59          1\n",
       "-5500.00         1\n",
       " 9.25            1\n",
       " 202.66          1\n",
       " 1205.00         1\n",
       " 80.73           1\n",
       " 115.07          1\n",
       " 213.69          1\n",
       " 70.76           1\n",
       " 144.13          1\n",
       " 97.15           1\n",
       " 122.32          1\n",
       " 188.65          1\n",
       " 122.40          1\n",
       " 132.12          1\n",
       "Name: contb_receipt_amt, Length: 8079, dtype: int64"
      ]
     },
     "execution_count": 38,
     "metadata": {},
     "output_type": "execute_result"
    }
   ],
   "source": [
    "donor_df['contb_receipt_amt'].value_counts()"
   ]
  },
  {
   "cell_type": "code",
   "execution_count": 42,
   "metadata": {},
   "outputs": [],
   "source": [
    "#Average donation was 298$ \n",
    "donor_mean = donor_df['contb_receipt_amt'].mean()"
   ]
  },
  {
   "cell_type": "code",
   "execution_count": 43,
   "metadata": {},
   "outputs": [],
   "source": [
    "donor_std = donor_df['contb_receipt_amt'].std()"
   ]
  },
  {
   "cell_type": "code",
   "execution_count": 44,
   "metadata": {},
   "outputs": [
    {
     "name": "stdout",
     "output_type": "stream",
     "text": [
      "The Average donation was 298.24 with a std deviation 3749.67\n"
     ]
    }
   ],
   "source": [
    "print('The Average donation was %.2f with a std deviation %.2f'%(donor_mean,donor_std))"
   ]
  },
  {
   "cell_type": "code",
   "execution_count": 45,
   "metadata": {
    "collapsed": true
   },
   "outputs": [],
   "source": [
    "top_donor = donor_df['contb_receipt_amt'].copy()"
   ]
  },
  {
   "cell_type": "code",
   "execution_count": 49,
   "metadata": {},
   "outputs": [
    {
     "data": {
      "text/plain": [
       "114604   -30800.0\n",
       "226986   -25800.0\n",
       "101356    -7500.0\n",
       "398429    -5500.0\n",
       "250737    -5455.0\n",
       "Name: contb_receipt_amt, dtype: float64"
      ]
     },
     "execution_count": 49,
     "metadata": {},
     "output_type": "execute_result"
    }
   ],
   "source": [
    "#Here Top Donor Series contains negative values because of the refunds which are made\n",
    "top_donor.sort_values().head()"
   ]
  },
  {
   "cell_type": "code",
   "execution_count": 54,
   "metadata": {},
   "outputs": [
    {
     "data": {
      "text/plain": [
       "100.0     178188\n",
       "50.0      137584\n",
       "25.0      110345\n",
       "250.0      91182\n",
       "500.0      57984\n",
       "2500.0     49005\n",
       "35.0       37237\n",
       "1000.0     36494\n",
       "10.0       33986\n",
       "200.0      27813\n",
       "Name: contb_receipt_amt, dtype: int64"
      ]
     },
     "execution_count": 54,
     "metadata": {},
     "output_type": "execute_result"
    }
   ],
   "source": [
    "#Top 10 most common donation amounts\n",
    "top_donor = top_donor[top_donor > 0]\n",
    "top_donor.value_counts().head(10)"
   ]
  },
  {
   "cell_type": "code",
   "execution_count": 57,
   "metadata": {},
   "outputs": [
    {
     "data": {
      "text/plain": [
       "<matplotlib.axes._subplots.AxesSubplot at 0x23b2d4855f8>"
      ]
     },
     "execution_count": 57,
     "metadata": {},
     "output_type": "execute_result"
    },
    {
     "data": {
      "image/png": "[encoded data removed]",
      "text/plain": [
       "<matplotlib.figure.Figure at 0x23b2c3d13c8>"
      ]
     },
     "metadata": {},
     "output_type": "display_data"
    }
   ],
   "source": [
    "com_don = top_donor[top_donor < 2500]\n",
    "com_don.hist(bins=100)\n",
    "#Contributors made more round off amount/value of donation"
   ]
  },
  {
   "cell_type": "code",
   "execution_count": 58,
   "metadata": {
    "collapsed": true
   },
   "outputs": [],
   "source": [
    "candidates = donor_df['cand_nm'].unique()"
   ]
  },
  {
   "cell_type": "code",
   "execution_count": 59,
   "metadata": {},
   "outputs": [
    {
     "data": {
      "text/plain": [
       "array(['Bachmann, Michelle', 'Romney, Mitt', 'Obama, Barack',\n",
       "       \"Roemer, Charles E. 'Buddy' III\", 'Pawlenty, Timothy',\n",
       "       'Johnson, Gary Earl', 'Paul, Ron', 'Santorum, Rick', 'Cain, Herman',\n",
       "       'Gingrich, Newt', 'McCotter, Thaddeus G', 'Huntsman, Jon',\n",
       "       'Perry, Rick'], dtype=object)"
      ]
     },
     "execution_count": 59,
     "metadata": {},
     "output_type": "execute_result"
    }
   ],
   "source": [
    "candidates"
   ]
  },
  {
   "cell_type": "code",
   "execution_count": 60,
   "metadata": {
    "collapsed": true
   },
   "outputs": [],
   "source": [
    "party_map = {'Bachmann, Michelle': 'Republican',\n",
    "           'Cain, Herman': 'Republican',\n",
    "           'Gingrich, Newt': 'Republican',\n",
    "           'Huntsman, Jon': 'Republican',\n",
    "           'Johnson, Gary Earl': 'Republican',\n",
    "           'McCotter, Thaddeus G': 'Republican',\n",
    "           'Obama, Barack': 'Democrat',\n",
    "           'Paul, Ron': 'Republican',\n",
    "           'Pawlenty, Timothy': 'Republican',\n",
    "           'Perry, Rick': 'Republican',\n",
    "           \"Roemer, Charles E. 'Buddy' III\": 'Republican',\n",
    "           'Romney, Mitt': 'Republican',\n",
    "           'Santorum, Rick': 'Republican'}\n",
    "donor_df['Party'] = donor_df.cand_nm.map(party_map)"
   ]
  },
  {
   "cell_type": "code",
   "execution_count": 64,
   "metadata": {},
   "outputs": [],
   "source": [
    "donor_df = donor_df[donor_df.contb_receipt_amt > 0]"
   ]
  },
  {
   "cell_type": "code",
   "execution_count": 66,
   "metadata": {},
   "outputs": [
    {
     "data": {
      "text/html": [
       "<div>\n",
       "<style>\n",
       "    .dataframe thead tr:only-child th {\n",
       "        text-align: right;\n",
       "    }\n",
       "\n",
       "    .dataframe thead th {\n",
       "        text-align: left;\n",
       "    }\n",
       "\n",
       "    .dataframe tbody tr th {\n",
       "        vertical-align: top;\n",
       "    }\n",
       "</style>\n",
       "<table border=\"1\" class=\"dataframe\">\n",
       "  <thead>\n",
       "    <tr style=\"text-align: right;\">\n",
       "      <th></th>\n",
       "      <th>cmte_id</th>\n",
       "      <th>cand_id</th>\n",
       "      <th>cand_nm</th>\n",
       "      <th>contbr_nm</th>\n",
       "      <th>contbr_city</th>\n",
       "      <th>contbr_st</th>\n",
       "      <th>contbr_zip</th>\n",
       "      <th>contbr_employer</th>\n",
       "      <th>contbr_occupation</th>\n",
       "      <th>contb_receipt_amt</th>\n",
       "      <th>contb_receipt_dt</th>\n",
       "      <th>receipt_desc</th>\n",
       "      <th>memo_cd</th>\n",
       "      <th>memo_text</th>\n",
       "      <th>form_tp</th>\n",
       "      <th>file_num</th>\n",
       "      <th>Party</th>\n",
       "    </tr>\n",
       "  </thead>\n",
       "  <tbody>\n",
       "    <tr>\n",
       "      <th>0</th>\n",
       "      <td>C00410118</td>\n",
       "      <td>P20002978</td>\n",
       "      <td>Bachmann, Michelle</td>\n",
       "      <td>HARVEY, WILLIAM</td>\n",
       "      <td>MOBILE</td>\n",
       "      <td>AL</td>\n",
       "      <td>366010290</td>\n",
       "      <td>RETIRED</td>\n",
       "      <td>RETIRED</td>\n",
       "      <td>250.0</td>\n",
       "      <td>20-JUN-11</td>\n",
       "      <td>NaN</td>\n",
       "      <td>NaN</td>\n",
       "      <td>NaN</td>\n",
       "      <td>SA17A</td>\n",
       "      <td>736166</td>\n",
       "      <td>Republican</td>\n",
       "    </tr>\n",
       "    <tr>\n",
       "      <th>1</th>\n",
       "      <td>C00410118</td>\n",
       "      <td>P20002978</td>\n",
       "      <td>Bachmann, Michelle</td>\n",
       "      <td>HARVEY, WILLIAM</td>\n",
       "      <td>MOBILE</td>\n",
       "      <td>AL</td>\n",
       "      <td>366010290</td>\n",
       "      <td>RETIRED</td>\n",
       "      <td>RETIRED</td>\n",
       "      <td>50.0</td>\n",
       "      <td>23-JUN-11</td>\n",
       "      <td>NaN</td>\n",
       "      <td>NaN</td>\n",
       "      <td>NaN</td>\n",
       "      <td>SA17A</td>\n",
       "      <td>736166</td>\n",
       "      <td>Republican</td>\n",
       "    </tr>\n",
       "    <tr>\n",
       "      <th>2</th>\n",
       "      <td>C00410118</td>\n",
       "      <td>P20002978</td>\n",
       "      <td>Bachmann, Michelle</td>\n",
       "      <td>SMITH, LANIER</td>\n",
       "      <td>LANETT</td>\n",
       "      <td>AL</td>\n",
       "      <td>368633403</td>\n",
       "      <td>INFORMATION REQUESTED</td>\n",
       "      <td>INFORMATION REQUESTED</td>\n",
       "      <td>250.0</td>\n",
       "      <td>05-JUL-11</td>\n",
       "      <td>NaN</td>\n",
       "      <td>NaN</td>\n",
       "      <td>NaN</td>\n",
       "      <td>SA17A</td>\n",
       "      <td>749073</td>\n",
       "      <td>Republican</td>\n",
       "    </tr>\n",
       "    <tr>\n",
       "      <th>3</th>\n",
       "      <td>C00410118</td>\n",
       "      <td>P20002978</td>\n",
       "      <td>Bachmann, Michelle</td>\n",
       "      <td>BLEVINS, DARONDA</td>\n",
       "      <td>PIGGOTT</td>\n",
       "      <td>AR</td>\n",
       "      <td>724548253</td>\n",
       "      <td>NONE</td>\n",
       "      <td>RETIRED</td>\n",
       "      <td>250.0</td>\n",
       "      <td>01-AUG-11</td>\n",
       "      <td>NaN</td>\n",
       "      <td>NaN</td>\n",
       "      <td>NaN</td>\n",
       "      <td>SA17A</td>\n",
       "      <td>749073</td>\n",
       "      <td>Republican</td>\n",
       "    </tr>\n",
       "    <tr>\n",
       "      <th>4</th>\n",
       "      <td>C00410118</td>\n",
       "      <td>P20002978</td>\n",
       "      <td>Bachmann, Michelle</td>\n",
       "      <td>WARDENBURG, HAROLD</td>\n",
       "      <td>HOT SPRINGS NATION</td>\n",
       "      <td>AR</td>\n",
       "      <td>719016467</td>\n",
       "      <td>NONE</td>\n",
       "      <td>RETIRED</td>\n",
       "      <td>300.0</td>\n",
       "      <td>20-JUN-11</td>\n",
       "      <td>NaN</td>\n",
       "      <td>NaN</td>\n",
       "      <td>NaN</td>\n",
       "      <td>SA17A</td>\n",
       "      <td>736166</td>\n",
       "      <td>Republican</td>\n",
       "    </tr>\n",
       "  </tbody>\n",
       "</table>\n",
       "</div>"
      ],
      "text/plain": [
       "     cmte_id    cand_id             cand_nm           contbr_nm  \\\n",
       "0  C00410118  P20002978  Bachmann, Michelle     HARVEY, WILLIAM   \n",
       "1  C00410118  P20002978  Bachmann, Michelle     HARVEY, WILLIAM   \n",
       "2  C00410118  P20002978  Bachmann, Michelle       SMITH, LANIER   \n",
       "3  C00410118  P20002978  Bachmann, Michelle    BLEVINS, DARONDA   \n",
       "4  C00410118  P20002978  Bachmann, Michelle  WARDENBURG, HAROLD   \n",
       "\n",
       "          contbr_city contbr_st contbr_zip        contbr_employer  \\\n",
       "0              MOBILE        AL  366010290                RETIRED   \n",
       "1              MOBILE        AL  366010290                RETIRED   \n",
       "2              LANETT        AL  368633403  INFORMATION REQUESTED   \n",
       "3             PIGGOTT        AR  724548253                   NONE   \n",
       "4  HOT SPRINGS NATION        AR  719016467                   NONE   \n",
       "\n",
       "       contbr_occupation  contb_receipt_amt contb_receipt_dt receipt_desc  \\\n",
       "0                RETIRED              250.0        20-JUN-11          NaN   \n",
       "1                RETIRED               50.0        23-JUN-11          NaN   \n",
       "2  INFORMATION REQUESTED              250.0        05-JUL-11          NaN   \n",
       "3                RETIRED              250.0        01-AUG-11          NaN   \n",
       "4                RETIRED              300.0        20-JUN-11          NaN   \n",
       "\n",
       "  memo_cd memo_text form_tp  file_num       Party  \n",
       "0     NaN       NaN   SA17A    736166  Republican  \n",
       "1     NaN       NaN   SA17A    736166  Republican  \n",
       "2     NaN       NaN   SA17A    749073  Republican  \n",
       "3     NaN       NaN   SA17A    749073  Republican  \n",
       "4     NaN       NaN   SA17A    736166  Republican  "
      ]
     },
     "execution_count": 66,
     "metadata": {},
     "output_type": "execute_result"
    }
   ],
   "source": [
    "donor_df.head()"
   ]
  },
  {
   "cell_type": "code",
   "execution_count": 68,
   "metadata": {},
   "outputs": [
    {
     "data": {
      "text/plain": [
       "cand_nm\n",
       "Bachmann, Michelle                2.711439e+06\n",
       "Cain, Herman                      7.101082e+06\n",
       "Gingrich, Newt                    1.283277e+07\n",
       "Huntsman, Jon                     3.330373e+06\n",
       "Johnson, Gary Earl                5.669616e+05\n",
       "McCotter, Thaddeus G              3.903000e+04\n",
       "Obama, Barack                     1.358774e+08\n",
       "Paul, Ron                         2.100962e+07\n",
       "Pawlenty, Timothy                 6.004819e+06\n",
       "Perry, Rick                       2.030575e+07\n",
       "Roemer, Charles E. 'Buddy' III    3.730099e+05\n",
       "Romney, Mitt                      8.833591e+07\n",
       "Santorum, Rick                    1.104316e+07\n",
       "Name: contb_receipt_amt, dtype: float64"
      ]
     },
     "execution_count": 68,
     "metadata": {},
     "output_type": "execute_result"
    }
   ],
   "source": [
    "donor_df.groupby('cand_nm')['contb_receipt_amt'].sum()"
   ]
  },
  {
   "cell_type": "code",
   "execution_count": 70,
   "metadata": {},
   "outputs": [
    {
     "data": {
      "text/plain": [
       "cand_nm\n",
       "Bachmann, Michelle                 13082\n",
       "Cain, Herman                       20052\n",
       "Gingrich, Newt                     46883\n",
       "Huntsman, Jon                       4066\n",
       "Johnson, Gary Earl                  1234\n",
       "McCotter, Thaddeus G                  73\n",
       "Obama, Barack                     589127\n",
       "Paul, Ron                         143161\n",
       "Pawlenty, Timothy                   3844\n",
       "Perry, Rick                        12709\n",
       "Roemer, Charles E. 'Buddy' III      5844\n",
       "Romney, Mitt                      105155\n",
       "Santorum, Rick                     46245\n",
       "Name: contb_receipt_amt, dtype: int64"
      ]
     },
     "execution_count": 70,
     "metadata": {},
     "output_type": "execute_result"
    }
   ],
   "source": [
    "donor_df.groupby('cand_nm')['contb_receipt_amt'].count()"
   ]
  },
  {
   "cell_type": "code",
   "execution_count": 74,
   "metadata": {},
   "outputs": [
    {
     "name": "stdout",
     "output_type": "stream",
     "text": [
      "The candidate Bachmann, Michelle raised 2711439 dollars \n",
      "\n",
      "The candidate Cain, Herman raised 7101082 dollars \n",
      "\n",
      "The candidate Gingrich, Newt raised 12832770 dollars \n",
      "\n",
      "The candidate Huntsman, Jon raised 3330373 dollars \n",
      "\n",
      "The candidate Johnson, Gary Earl raised 566962 dollars \n",
      "\n",
      "The candidate McCotter, Thaddeus G raised 39030 dollars \n",
      "\n",
      "The candidate Obama, Barack raised 135877427 dollars \n",
      "\n",
      "The candidate Paul, Ron raised 21009620 dollars \n",
      "\n",
      "The candidate Pawlenty, Timothy raised 6004819 dollars \n",
      "\n",
      "The candidate Perry, Rick raised 20305754 dollars \n",
      "\n",
      "The candidate Roemer, Charles E. 'Buddy' III raised 373010 dollars \n",
      "\n",
      "The candidate Romney, Mitt raised 88335908 dollars \n",
      "\n",
      "The candidate Santorum, Rick raised 11043159 dollars \n",
      "\n"
     ]
    }
   ],
   "source": [
    "cand_amount = donor_df.groupby('cand_nm')['contb_receipt_amt'].sum()\n",
    "i = 0\n",
    "for don in cand_amount:\n",
    "    print('The candidate %s raised %.0f dollars \\n'%(cand_amount.index[i],don) )\n",
    "    i += 1"
   ]
  },
  {
   "cell_type": "code",
   "execution_count": 75,
   "metadata": {},
   "outputs": [
    {
     "data": {
      "text/plain": [
       "<matplotlib.axes._subplots.AxesSubplot at 0x23b2c7e2390>"
      ]
     },
     "execution_count": 75,
     "metadata": {},
     "output_type": "execute_result"
    },
    {
     "data": {
      "image/png": "[encoded data removed]",
      "text/plain": [
       "<matplotlib.figure.Figure at 0x23b2c7972b0>"
      ]
     },
     "metadata": {},
     "output_type": "display_data"
    }
   ],
   "source": [
    "cand_amount.plot(kind = 'bar')"
   ]
  },
  {
   "cell_type": "code",
   "execution_count": 76,
   "metadata": {
    "collapsed": true
   },
   "outputs": [],
   "source": [
    "party_donation = donor_df.groupby('Party')['contb_receipt_amt'].sum()"
   ]
  },
  {
   "cell_type": "code",
   "execution_count": 77,
   "metadata": {},
   "outputs": [
    {
     "data": {
      "text/plain": [
       "Party\n",
       "Democrat      1.358774e+08\n",
       "Republican    1.736539e+08\n",
       "Name: contb_receipt_amt, dtype: float64"
      ]
     },
     "execution_count": 77,
     "metadata": {},
     "output_type": "execute_result"
    }
   ],
   "source": [
    "party_donation"
   ]
  },
  {
   "cell_type": "code",
   "execution_count": 81,
   "metadata": {},
   "outputs": [
    {
     "ename": "AttributeError",
     "evalue": "'AxesSubplot' object has no attribute 'head'",
     "output_type": "error",
     "traceback": [
      "\u001b[1;31m---------------------------------------------------------------------------\u001b[0m",
      "\u001b[1;31mAttributeError\u001b[0m                            Traceback (most recent call last)",
      "\u001b[1;32m<ipython-input-81-a8fb305c0737>\u001b[0m in \u001b[0;36m<module>\u001b[1;34m()\u001b[0m\n\u001b[1;32m----> 1\u001b[1;33m \u001b[0mparty_donation\u001b[0m\u001b[1;33m.\u001b[0m\u001b[0mplot\u001b[0m\u001b[1;33m(\u001b[0m\u001b[0mkind\u001b[0m \u001b[1;33m=\u001b[0m \u001b[1;34m'bar'\u001b[0m\u001b[1;33m)\u001b[0m\u001b[1;33m.\u001b[0m\u001b[0mhead\u001b[0m\u001b[1;33m(\u001b[0m\u001b[1;33m)\u001b[0m\u001b[1;33m\u001b[0m\u001b[0m\n\u001b[0m",
      "\u001b[1;31mAttributeError\u001b[0m: 'AxesSubplot' object has no attribute 'head'"
     ]
    },
    {
     "data": {
      "image/png": "[encoded data removed]",
      "text/plain": [
       "<matplotlib.figure.Figure at 0x23b2c97a0f0>"
      ]
     },
     "metadata": {},
     "output_type": "display_data"
    }
   ],
   "source": [
    "party_donation.plot(kind = 'bar')"
   ]
  },
  {
   "cell_type": "code",
   "execution_count": 82,
   "metadata": {
    "collapsed": true
   },
   "outputs": [],
   "source": [
    "occupation_df = donor_df.pivot_table('contb_receipt_amt',\n",
    "                                    index='contbr_occupation',\n",
    "                                    columns='Party',\n",
    "                                    aggfunc = 'sum')"
   ]
  },
  {
   "cell_type": "code",
   "execution_count": 84,
   "metadata": {},
   "outputs": [
    {
     "data": {
      "text/html": [
       "<div>\n",
       "<style>\n",
       "    .dataframe thead tr:only-child th {\n",
       "        text-align: right;\n",
       "    }\n",
       "\n",
       "    .dataframe thead th {\n",
       "        text-align: left;\n",
       "    }\n",
       "\n",
       "    .dataframe tbody tr th {\n",
       "        vertical-align: top;\n",
       "    }\n",
       "</style>\n",
       "<table border=\"1\" class=\"dataframe\">\n",
       "  <thead>\n",
       "    <tr style=\"text-align: right;\">\n",
       "      <th>Party</th>\n",
       "      <th>Democrat</th>\n",
       "      <th>Republican</th>\n",
       "    </tr>\n",
       "    <tr>\n",
       "      <th>contbr_occupation</th>\n",
       "      <th></th>\n",
       "      <th></th>\n",
       "    </tr>\n",
       "  </thead>\n",
       "  <tbody>\n",
       "    <tr>\n",
       "      <th>MIXED-MEDIA ARTIST / STORYTELLER</th>\n",
       "      <td>100.0</td>\n",
       "      <td>NaN</td>\n",
       "    </tr>\n",
       "    <tr>\n",
       "      <th>AREA VICE PRESIDENT</th>\n",
       "      <td>250.0</td>\n",
       "      <td>NaN</td>\n",
       "    </tr>\n",
       "    <tr>\n",
       "      <th>RESEARCH ASSOCIATE</th>\n",
       "      <td>100.0</td>\n",
       "      <td>NaN</td>\n",
       "    </tr>\n",
       "    <tr>\n",
       "      <th>TEACHER</th>\n",
       "      <td>500.0</td>\n",
       "      <td>NaN</td>\n",
       "    </tr>\n",
       "    <tr>\n",
       "      <th>THERAPIST</th>\n",
       "      <td>3900.0</td>\n",
       "      <td>NaN</td>\n",
       "    </tr>\n",
       "  </tbody>\n",
       "</table>\n",
       "</div>"
      ],
      "text/plain": [
       "Party                                Democrat  Republican\n",
       "contbr_occupation                                        \n",
       "   MIXED-MEDIA ARTIST / STORYTELLER     100.0         NaN\n",
       " AREA VICE PRESIDENT                    250.0         NaN\n",
       " RESEARCH ASSOCIATE                     100.0         NaN\n",
       " TEACHER                                500.0         NaN\n",
       " THERAPIST                             3900.0         NaN"
      ]
     },
     "execution_count": 84,
     "metadata": {},
     "output_type": "execute_result"
    }
   ],
   "source": [
    "occupation_df.head()"
   ]
  },
  {
   "cell_type": "code",
   "execution_count": 85,
   "metadata": {},
   "outputs": [
    {
     "data": {
      "text/html": [
       "<div>\n",
       "<style>\n",
       "    .dataframe thead tr:only-child th {\n",
       "        text-align: right;\n",
       "    }\n",
       "\n",
       "    .dataframe thead th {\n",
       "        text-align: left;\n",
       "    }\n",
       "\n",
       "    .dataframe tbody tr th {\n",
       "        vertical-align: top;\n",
       "    }\n",
       "</style>\n",
       "<table border=\"1\" class=\"dataframe\">\n",
       "  <thead>\n",
       "    <tr style=\"text-align: right;\">\n",
       "      <th>Party</th>\n",
       "      <th>Democrat</th>\n",
       "      <th>Republican</th>\n",
       "    </tr>\n",
       "    <tr>\n",
       "      <th>contbr_occupation</th>\n",
       "      <th></th>\n",
       "      <th></th>\n",
       "    </tr>\n",
       "  </thead>\n",
       "  <tbody>\n",
       "    <tr>\n",
       "      <th>ZOOKEEPER</th>\n",
       "      <td>35.0</td>\n",
       "      <td>NaN</td>\n",
       "    </tr>\n",
       "    <tr>\n",
       "      <th>ZOOLOGIST</th>\n",
       "      <td>400.0</td>\n",
       "      <td>NaN</td>\n",
       "    </tr>\n",
       "    <tr>\n",
       "      <th>ZOOLOGY EDUCATION</th>\n",
       "      <td>25.0</td>\n",
       "      <td>NaN</td>\n",
       "    </tr>\n",
       "    <tr>\n",
       "      <th>\\NONE\\</th>\n",
       "      <td>NaN</td>\n",
       "      <td>250.0</td>\n",
       "    </tr>\n",
       "    <tr>\n",
       "      <th>~</th>\n",
       "      <td>NaN</td>\n",
       "      <td>75.0</td>\n",
       "    </tr>\n",
       "  </tbody>\n",
       "</table>\n",
       "</div>"
      ],
      "text/plain": [
       "Party              Democrat  Republican\n",
       "contbr_occupation                      \n",
       "ZOOKEEPER              35.0         NaN\n",
       "ZOOLOGIST             400.0         NaN\n",
       "ZOOLOGY EDUCATION      25.0         NaN\n",
       "\\NONE\\                  NaN       250.0\n",
       "~                       NaN        75.0"
      ]
     },
     "execution_count": 85,
     "metadata": {},
     "output_type": "execute_result"
    }
   ],
   "source": [
    "occupation_df.tail()"
   ]
  },
  {
   "cell_type": "code",
   "execution_count": 86,
   "metadata": {},
   "outputs": [
    {
     "name": "stdout",
     "output_type": "stream",
     "text": [
      "<class 'pandas.core.frame.DataFrame'>\n",
      "Index: 45067 entries,    MIXED-MEDIA ARTIST / STORYTELLER to ~\n",
      "Data columns (total 2 columns):\n",
      "Democrat      29166 non-null float64\n",
      "Republican    21081 non-null float64\n",
      "dtypes: float64(2)\n",
      "memory usage: 1.0+ MB\n"
     ]
    }
   ],
   "source": [
    "occupation_df.info()"
   ]
  },
  {
   "cell_type": "code",
   "execution_count": 90,
   "metadata": {},
   "outputs": [
    {
     "data": {
      "text/plain": [
       "(45067, 2)"
      ]
     },
     "execution_count": 90,
     "metadata": {},
     "output_type": "execute_result"
    }
   ],
   "source": [
    "occupation_df.shape"
   ]
  },
  {
   "cell_type": "code",
   "execution_count": 93,
   "metadata": {},
   "outputs": [
    {
     "data": {
      "text/plain": [
       "(31, 2)"
      ]
     },
     "execution_count": 93,
     "metadata": {},
     "output_type": "execute_result"
    }
   ],
   "source": [
    "occupation_df = occupation_df[occupation_df.sum(1)>1000000]\n",
    "occupation_df.shape"
   ]
  },
  {
   "cell_type": "code",
   "execution_count": 96,
   "metadata": {},
   "outputs": [
    {
     "data": {
      "text/plain": [
       "<matplotlib.axes._subplots.AxesSubplot at 0x23b2cb9b6d8>"
      ]
     },
     "execution_count": 96,
     "metadata": {},
     "output_type": "execute_result"
    },
    {
     "data": {
      "image/png": "[encoded data removed]",
      "text/plain": [
       "<matplotlib.figure.Figure at 0x23b2cba7eb8>"
      ]
     },
     "metadata": {},
     "output_type": "display_data"
    }
   ],
   "source": [
    "occupation_df.plot(kind='barh',figsize = (10,12))"
   ]
  },
  {
   "cell_type": "code",
   "execution_count": 97,
   "metadata": {
    "collapsed": true
   },
   "outputs": [],
   "source": [
    "#Dropping off the columns which don't provide job information\n",
    "occupation_df.drop(['INFORMATION REQUESTED PER BEST EFFORTS','INFORMATION REQUESTED'],axis = 0, inplace =True)"
   ]
  },
  {
   "cell_type": "code",
   "execution_count": 100,
   "metadata": {},
   "outputs": [],
   "source": [
    "#Merging CEO with C.E.O and dropping off C.E.O\n",
    "occupation_df.loc['CEO'] = occupation_df.loc['CEO']+occupation_df.loc['C.E.O.']\n",
    "occupation_df.drop('C.E.O.',inplace = True)"
   ]
  },
  {
   "cell_type": "code",
   "execution_count": 101,
   "metadata": {},
   "outputs": [
    {
     "data": {
      "text/plain": [
       "<matplotlib.axes._subplots.AxesSubplot at 0x23b2cd1ecf8>"
      ]
     },
     "execution_count": 101,
     "metadata": {},
     "output_type": "execute_result"
    },
    {
     "data": {
      "image/png": "[encoded data removed]",
      "text/plain": [
       "<matplotlib.figure.Figure at 0x23b2cd55b70>"
      ]
     },
     "metadata": {},
     "output_type": "display_data"
    }
   ],
   "source": [
    "occupation_df.plot(kind='barh',figsize = (10,12))"
   ]
  },
  {
   "cell_type": "code",
   "execution_count": null,
   "metadata": {
    "collapsed": true
   },
   "outputs": [],
   "source": []
  }
 ],
 "metadata": {
  "kernelspec": {
   "display_name": "Python 3",
   "language": "python",
   "name": "python3"
  },
  "language_info": {
   "codemirror_mode": {
    "name": "ipython",
    "version": 3
   },
   "file_extension": ".py",
   "mimetype": "text/x-python",
   "name": "python",
   "nbconvert_exporter": "python",
   "pygments_lexer": "ipython3",
   "version": "3.6.2"
  }
 },
 "nbformat": 4,
 "nbformat_minor": 2
}
